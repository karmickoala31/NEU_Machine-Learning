{
 "cells": [
  {
   "cell_type": "markdown",
   "metadata": {},
   "source": [
    "## ASSIGNMENT 2\n",
    "---"
   ]
  },
  {
   "cell_type": "markdown",
   "metadata": {},
   "source": [
    "**1. Try different imputation methods on the Titanic Dataset, and evaluate classifier accuracies for each of these. A package you can use is fancyimpute.**"
   ]
  },
  {
   "cell_type": "markdown",
   "metadata": {},
   "source": [
    "## Importing Packages"
   ]
  },
  {
   "cell_type": "code",
   "execution_count": 1,
   "metadata": {},
   "outputs": [],
   "source": [
    "import pandas as pd \n",
    "import numpy as np\n",
    "import seaborn as sns\n",
    "import matplotlib.pyplot as plt\n",
    "\n",
    "%matplotlib inline\n",
    "plt.rcParams[\"figure.figsize\"] = (15,10)"
   ]
  },
  {
   "cell_type": "markdown",
   "metadata": {},
   "source": [
    "Lets write some data into the dataframe..."
   ]
  },
  {
   "cell_type": "code",
   "execution_count": 2,
   "metadata": {},
   "outputs": [
    {
     "name": "stdout",
     "output_type": "stream",
     "text": [
      "(1309, 11)\n"
     ]
    },
    {
     "data": {
      "text/html": [
       "<div>\n",
       "<style scoped>\n",
       "    .dataframe tbody tr th:only-of-type {\n",
       "        vertical-align: middle;\n",
       "    }\n",
       "\n",
       "    .dataframe tbody tr th {\n",
       "        vertical-align: top;\n",
       "    }\n",
       "\n",
       "    .dataframe thead th {\n",
       "        text-align: right;\n",
       "    }\n",
       "</style>\n",
       "<table border=\"1\" class=\"dataframe\">\n",
       "  <thead>\n",
       "    <tr style=\"text-align: right;\">\n",
       "      <th></th>\n",
       "      <th>Survived</th>\n",
       "      <th>Pclass</th>\n",
       "      <th>Name</th>\n",
       "      <th>Sex</th>\n",
       "      <th>Age</th>\n",
       "      <th>SibSp</th>\n",
       "      <th>Parch</th>\n",
       "      <th>Ticket</th>\n",
       "      <th>Fare</th>\n",
       "      <th>Cabin</th>\n",
       "      <th>Embarked</th>\n",
       "    </tr>\n",
       "    <tr>\n",
       "      <th>PassengerId</th>\n",
       "      <th></th>\n",
       "      <th></th>\n",
       "      <th></th>\n",
       "      <th></th>\n",
       "      <th></th>\n",
       "      <th></th>\n",
       "      <th></th>\n",
       "      <th></th>\n",
       "      <th></th>\n",
       "      <th></th>\n",
       "      <th></th>\n",
       "    </tr>\n",
       "  </thead>\n",
       "  <tbody>\n",
       "    <tr>\n",
       "      <th>1</th>\n",
       "      <td>0</td>\n",
       "      <td>3</td>\n",
       "      <td>Braund, Mr. Owen Harris</td>\n",
       "      <td>male</td>\n",
       "      <td>22.0</td>\n",
       "      <td>1</td>\n",
       "      <td>0</td>\n",
       "      <td>A/5 21171</td>\n",
       "      <td>7.2500</td>\n",
       "      <td>NaN</td>\n",
       "      <td>S</td>\n",
       "    </tr>\n",
       "    <tr>\n",
       "      <th>2</th>\n",
       "      <td>1</td>\n",
       "      <td>1</td>\n",
       "      <td>Cumings, Mrs. John Bradley (Florence Briggs Th...</td>\n",
       "      <td>female</td>\n",
       "      <td>38.0</td>\n",
       "      <td>1</td>\n",
       "      <td>0</td>\n",
       "      <td>PC 17599</td>\n",
       "      <td>71.2833</td>\n",
       "      <td>C85</td>\n",
       "      <td>C</td>\n",
       "    </tr>\n",
       "    <tr>\n",
       "      <th>3</th>\n",
       "      <td>1</td>\n",
       "      <td>3</td>\n",
       "      <td>Heikkinen, Miss. Laina</td>\n",
       "      <td>female</td>\n",
       "      <td>26.0</td>\n",
       "      <td>0</td>\n",
       "      <td>0</td>\n",
       "      <td>STON/O2. 3101282</td>\n",
       "      <td>7.9250</td>\n",
       "      <td>NaN</td>\n",
       "      <td>S</td>\n",
       "    </tr>\n",
       "    <tr>\n",
       "      <th>4</th>\n",
       "      <td>1</td>\n",
       "      <td>1</td>\n",
       "      <td>Futrelle, Mrs. Jacques Heath (Lily May Peel)</td>\n",
       "      <td>female</td>\n",
       "      <td>35.0</td>\n",
       "      <td>1</td>\n",
       "      <td>0</td>\n",
       "      <td>113803</td>\n",
       "      <td>53.1000</td>\n",
       "      <td>C123</td>\n",
       "      <td>S</td>\n",
       "    </tr>\n",
       "    <tr>\n",
       "      <th>5</th>\n",
       "      <td>0</td>\n",
       "      <td>3</td>\n",
       "      <td>Allen, Mr. William Henry</td>\n",
       "      <td>male</td>\n",
       "      <td>35.0</td>\n",
       "      <td>0</td>\n",
       "      <td>0</td>\n",
       "      <td>373450</td>\n",
       "      <td>8.0500</td>\n",
       "      <td>NaN</td>\n",
       "      <td>S</td>\n",
       "    </tr>\n",
       "  </tbody>\n",
       "</table>\n",
       "</div>"
      ],
      "text/plain": [
       "             Survived  Pclass  \\\n",
       "PassengerId                     \n",
       "1                   0       3   \n",
       "2                   1       1   \n",
       "3                   1       3   \n",
       "4                   1       1   \n",
       "5                   0       3   \n",
       "\n",
       "                                                          Name     Sex   Age  \\\n",
       "PassengerId                                                                    \n",
       "1                                      Braund, Mr. Owen Harris    male  22.0   \n",
       "2            Cumings, Mrs. John Bradley (Florence Briggs Th...  female  38.0   \n",
       "3                                       Heikkinen, Miss. Laina  female  26.0   \n",
       "4                 Futrelle, Mrs. Jacques Heath (Lily May Peel)  female  35.0   \n",
       "5                                     Allen, Mr. William Henry    male  35.0   \n",
       "\n",
       "             SibSp  Parch            Ticket     Fare Cabin Embarked  \n",
       "PassengerId                                                          \n",
       "1                1      0         A/5 21171   7.2500   NaN        S  \n",
       "2                1      0          PC 17599  71.2833   C85        C  \n",
       "3                0      0  STON/O2. 3101282   7.9250   NaN        S  \n",
       "4                1      0            113803  53.1000  C123        S  \n",
       "5                0      0            373450   8.0500   NaN        S  "
      ]
     },
     "execution_count": 2,
     "metadata": {},
     "output_type": "execute_result"
    }
   ],
   "source": [
    "df = pd.read_csv('Titanic_full.csv',index_col=0)\n",
    "print(df.shape)\n",
    "df.head(5)"
   ]
  },
  {
   "cell_type": "markdown",
   "metadata": {},
   "source": [
    "Alright, looks like I've got 1309 rows across 11 columns considering that I have specified the first column of the dataframe to be treated as an index **(index_col = 0)**. Moving forward, let's take a holistic look at the data. "
   ]
  },
  {
   "cell_type": "code",
   "execution_count": 3,
   "metadata": {},
   "outputs": [
    {
     "name": "stdout",
     "output_type": "stream",
     "text": [
      "Survived     0.00\n",
      "Pclass       0.00\n",
      "Name         0.00\n",
      "Sex          0.00\n",
      "Age         20.09\n",
      "SibSp        0.00\n",
      "Parch        0.00\n",
      "Ticket       0.00\n",
      "Fare         0.08\n",
      "Cabin       77.46\n",
      "Embarked     0.15\n",
      "dtype: float64\n"
     ]
    }
   ],
   "source": [
    "nulls = df.isnull().sum()/len(df)*100\n",
    "nulls_pct = str(round(nulls,2))\n",
    "print(nulls_pct)"
   ]
  },
  {
   "cell_type": "markdown",
   "metadata": {},
   "source": [
    "There are a lot of nulls in the dataset that needs to be taken care of. In general practice, anything drastically over 25% is ideally discarded as it will affect the model prediction significantly. So, I drop column 'Cabin' which has almost 78% null values. "
   ]
  },
  {
   "cell_type": "code",
   "execution_count": 4,
   "metadata": {},
   "outputs": [
    {
     "name": "stdout",
     "output_type": "stream",
     "text": [
      "(1309, 10)\n"
     ]
    },
    {
     "data": {
      "text/html": [
       "<div>\n",
       "<style scoped>\n",
       "    .dataframe tbody tr th:only-of-type {\n",
       "        vertical-align: middle;\n",
       "    }\n",
       "\n",
       "    .dataframe tbody tr th {\n",
       "        vertical-align: top;\n",
       "    }\n",
       "\n",
       "    .dataframe thead th {\n",
       "        text-align: right;\n",
       "    }\n",
       "</style>\n",
       "<table border=\"1\" class=\"dataframe\">\n",
       "  <thead>\n",
       "    <tr style=\"text-align: right;\">\n",
       "      <th></th>\n",
       "      <th>Survived</th>\n",
       "      <th>Pclass</th>\n",
       "      <th>Name</th>\n",
       "      <th>Sex</th>\n",
       "      <th>Age</th>\n",
       "      <th>SibSp</th>\n",
       "      <th>Parch</th>\n",
       "      <th>Ticket</th>\n",
       "      <th>Fare</th>\n",
       "      <th>Embarked</th>\n",
       "    </tr>\n",
       "    <tr>\n",
       "      <th>PassengerId</th>\n",
       "      <th></th>\n",
       "      <th></th>\n",
       "      <th></th>\n",
       "      <th></th>\n",
       "      <th></th>\n",
       "      <th></th>\n",
       "      <th></th>\n",
       "      <th></th>\n",
       "      <th></th>\n",
       "      <th></th>\n",
       "    </tr>\n",
       "  </thead>\n",
       "  <tbody>\n",
       "    <tr>\n",
       "      <th>1</th>\n",
       "      <td>0</td>\n",
       "      <td>3</td>\n",
       "      <td>Braund, Mr. Owen Harris</td>\n",
       "      <td>male</td>\n",
       "      <td>22.0</td>\n",
       "      <td>1</td>\n",
       "      <td>0</td>\n",
       "      <td>A/5 21171</td>\n",
       "      <td>7.2500</td>\n",
       "      <td>S</td>\n",
       "    </tr>\n",
       "    <tr>\n",
       "      <th>2</th>\n",
       "      <td>1</td>\n",
       "      <td>1</td>\n",
       "      <td>Cumings, Mrs. John Bradley (Florence Briggs Th...</td>\n",
       "      <td>female</td>\n",
       "      <td>38.0</td>\n",
       "      <td>1</td>\n",
       "      <td>0</td>\n",
       "      <td>PC 17599</td>\n",
       "      <td>71.2833</td>\n",
       "      <td>C</td>\n",
       "    </tr>\n",
       "    <tr>\n",
       "      <th>3</th>\n",
       "      <td>1</td>\n",
       "      <td>3</td>\n",
       "      <td>Heikkinen, Miss. Laina</td>\n",
       "      <td>female</td>\n",
       "      <td>26.0</td>\n",
       "      <td>0</td>\n",
       "      <td>0</td>\n",
       "      <td>STON/O2. 3101282</td>\n",
       "      <td>7.9250</td>\n",
       "      <td>S</td>\n",
       "    </tr>\n",
       "    <tr>\n",
       "      <th>4</th>\n",
       "      <td>1</td>\n",
       "      <td>1</td>\n",
       "      <td>Futrelle, Mrs. Jacques Heath (Lily May Peel)</td>\n",
       "      <td>female</td>\n",
       "      <td>35.0</td>\n",
       "      <td>1</td>\n",
       "      <td>0</td>\n",
       "      <td>113803</td>\n",
       "      <td>53.1000</td>\n",
       "      <td>S</td>\n",
       "    </tr>\n",
       "    <tr>\n",
       "      <th>5</th>\n",
       "      <td>0</td>\n",
       "      <td>3</td>\n",
       "      <td>Allen, Mr. William Henry</td>\n",
       "      <td>male</td>\n",
       "      <td>35.0</td>\n",
       "      <td>0</td>\n",
       "      <td>0</td>\n",
       "      <td>373450</td>\n",
       "      <td>8.0500</td>\n",
       "      <td>S</td>\n",
       "    </tr>\n",
       "  </tbody>\n",
       "</table>\n",
       "</div>"
      ],
      "text/plain": [
       "             Survived  Pclass  \\\n",
       "PassengerId                     \n",
       "1                   0       3   \n",
       "2                   1       1   \n",
       "3                   1       3   \n",
       "4                   1       1   \n",
       "5                   0       3   \n",
       "\n",
       "                                                          Name     Sex   Age  \\\n",
       "PassengerId                                                                    \n",
       "1                                      Braund, Mr. Owen Harris    male  22.0   \n",
       "2            Cumings, Mrs. John Bradley (Florence Briggs Th...  female  38.0   \n",
       "3                                       Heikkinen, Miss. Laina  female  26.0   \n",
       "4                 Futrelle, Mrs. Jacques Heath (Lily May Peel)  female  35.0   \n",
       "5                                     Allen, Mr. William Henry    male  35.0   \n",
       "\n",
       "             SibSp  Parch            Ticket     Fare Embarked  \n",
       "PassengerId                                                    \n",
       "1                1      0         A/5 21171   7.2500        S  \n",
       "2                1      0          PC 17599  71.2833        C  \n",
       "3                0      0  STON/O2. 3101282   7.9250        S  \n",
       "4                1      0            113803  53.1000        S  \n",
       "5                0      0            373450   8.0500        S  "
      ]
     },
     "execution_count": 4,
     "metadata": {},
     "output_type": "execute_result"
    }
   ],
   "source": [
    "df = df.drop('Cabin', axis=1)\n",
    "print(df.shape)\n",
    "df.head(5)"
   ]
  },
  {
   "cell_type": "markdown",
   "metadata": {},
   "source": [
    "## Data pre-preprocessing\n",
    "\n",
    "I am going to preprocess this dataset as following:\n",
    "\n",
    "1. Convert the entire dataframe to an array of numbers. This will be achieved in two ways: (a) Convert object types and string types to category type (b) map and convert cateogries of numbers.\n",
    "\n",
    "2. Convert catagorical variables into numeric values.\n",
    "\n",
    "3. Impute or \"fill in\" missing values or NaNs. We will play with different methods and provide a comparison by plotting a ROC curve after having applied our classifier (In our case, KNN)\n",
    "\n",
    "4. Finally, for a lot of the algorithms like k-NN, we scale the data to lie between 0 and 1 with mean zero and unit variance.\n"
   ]
  },
  {
   "cell_type": "markdown",
   "metadata": {},
   "source": [
    "**STEP (1): Converting string types into categories**"
   ]
  },
  {
   "cell_type": "code",
   "execution_count": 5,
   "metadata": {},
   "outputs": [
    {
     "name": "stdout",
     "output_type": "stream",
     "text": [
      "<class 'pandas.core.frame.DataFrame'>\n",
      "Int64Index: 1309 entries, 1 to 1309\n",
      "Data columns (total 10 columns):\n",
      "Survived    1309 non-null int64\n",
      "Pclass      1309 non-null int64\n",
      "Name        1309 non-null object\n",
      "Sex         1309 non-null object\n",
      "Age         1046 non-null float64\n",
      "SibSp       1309 non-null int64\n",
      "Parch       1309 non-null int64\n",
      "Ticket      1309 non-null object\n",
      "Fare        1308 non-null float64\n",
      "Embarked    1307 non-null object\n",
      "dtypes: float64(2), int64(4), object(4)\n",
      "memory usage: 112.5+ KB\n"
     ]
    }
   ],
   "source": [
    "df.info()"
   ]
  },
  {
   "cell_type": "code",
   "execution_count": 6,
   "metadata": {},
   "outputs": [
    {
     "data": {
      "text/plain": [
       "Index(['Name', 'Sex', 'Ticket', 'Embarked'], dtype='object')"
      ]
     },
     "execution_count": 6,
     "metadata": {},
     "output_type": "execute_result"
    }
   ],
   "source": [
    "df.select_dtypes(['object']).columns"
   ]
  },
  {
   "cell_type": "markdown",
   "metadata": {},
   "source": [
    "Note that 4 columns are of the datatype Object which needs to be converted into categories. I am writing a lambda function that selects columns having dtype as 'Object' and converts it into category and that should serve our purpose."
   ]
  },
  {
   "cell_type": "code",
   "execution_count": 7,
   "metadata": {},
   "outputs": [],
   "source": [
    "df[df.select_dtypes(['object']).columns] = df.select_dtypes(['object']).apply(lambda x: x.astype('category'))    "
   ]
  },
  {
   "cell_type": "code",
   "execution_count": 8,
   "metadata": {},
   "outputs": [
    {
     "name": "stdout",
     "output_type": "stream",
     "text": [
      "<class 'pandas.core.frame.DataFrame'>\n",
      "Int64Index: 1309 entries, 1 to 1309\n",
      "Data columns (total 10 columns):\n",
      "Survived    1309 non-null int64\n",
      "Pclass      1309 non-null int64\n",
      "Name        1309 non-null category\n",
      "Sex         1309 non-null category\n",
      "Age         1046 non-null float64\n",
      "SibSp       1309 non-null int64\n",
      "Parch       1309 non-null int64\n",
      "Ticket      1309 non-null category\n",
      "Fare        1308 non-null float64\n",
      "Embarked    1307 non-null category\n",
      "dtypes: category(4), float64(2), int64(4)\n",
      "memory usage: 176.9 KB\n"
     ]
    }
   ],
   "source": [
    "df.info()"
   ]
  },
  {
   "cell_type": "markdown",
   "metadata": {},
   "source": [
    "**STEP (2): Converting categorical variables into integer values**"
   ]
  },
  {
   "cell_type": "code",
   "execution_count": 9,
   "metadata": {},
   "outputs": [
    {
     "name": "stdout",
     "output_type": "stream",
     "text": [
      "Index(['female', 'male'], dtype='object')\n",
      "Index(['C', 'Q', 'S'], dtype='object')\n"
     ]
    }
   ],
   "source": [
    "print(df.Sex.cat.categories)\n",
    "print(df.Embarked.cat.categories)\n"
   ]
  },
  {
   "cell_type": "markdown",
   "metadata": {},
   "source": [
    "Check the mappings of the 'Sex' & 'Embarked' categories. I am writing couple of functions that looks for the categorical values and returns an integer. Both these categories are written back to the original dataframe."
   ]
  },
  {
   "cell_type": "code",
   "execution_count": 10,
   "metadata": {},
   "outputs": [],
   "source": [
    "def gender_converter(gender):\n",
    "    if gender=='male':\n",
    "        return 1\n",
    "    else:\n",
    "        return 0\n",
    "    \n",
    "def embarked_converter(embarked):\n",
    "    if embarked=='C':\n",
    "        return 1\n",
    "    elif embarked=='Q':\n",
    "        return 2\n",
    "    elif embarked=='S':\n",
    "        return 3"
   ]
  },
  {
   "cell_type": "code",
   "execution_count": 11,
   "metadata": {},
   "outputs": [
    {
     "data": {
      "text/html": [
       "<div>\n",
       "<style scoped>\n",
       "    .dataframe tbody tr th:only-of-type {\n",
       "        vertical-align: middle;\n",
       "    }\n",
       "\n",
       "    .dataframe tbody tr th {\n",
       "        vertical-align: top;\n",
       "    }\n",
       "\n",
       "    .dataframe thead th {\n",
       "        text-align: right;\n",
       "    }\n",
       "</style>\n",
       "<table border=\"1\" class=\"dataframe\">\n",
       "  <thead>\n",
       "    <tr style=\"text-align: right;\">\n",
       "      <th></th>\n",
       "      <th>Survived</th>\n",
       "      <th>Pclass</th>\n",
       "      <th>Name</th>\n",
       "      <th>Sex</th>\n",
       "      <th>Age</th>\n",
       "      <th>SibSp</th>\n",
       "      <th>Parch</th>\n",
       "      <th>Ticket</th>\n",
       "      <th>Fare</th>\n",
       "      <th>Embarked</th>\n",
       "    </tr>\n",
       "    <tr>\n",
       "      <th>PassengerId</th>\n",
       "      <th></th>\n",
       "      <th></th>\n",
       "      <th></th>\n",
       "      <th></th>\n",
       "      <th></th>\n",
       "      <th></th>\n",
       "      <th></th>\n",
       "      <th></th>\n",
       "      <th></th>\n",
       "      <th></th>\n",
       "    </tr>\n",
       "  </thead>\n",
       "  <tbody>\n",
       "    <tr>\n",
       "      <th>1</th>\n",
       "      <td>0</td>\n",
       "      <td>3</td>\n",
       "      <td>Braund, Mr. Owen Harris</td>\n",
       "      <td>1</td>\n",
       "      <td>22.0</td>\n",
       "      <td>1</td>\n",
       "      <td>0</td>\n",
       "      <td>A/5 21171</td>\n",
       "      <td>7.2500</td>\n",
       "      <td>3</td>\n",
       "    </tr>\n",
       "    <tr>\n",
       "      <th>2</th>\n",
       "      <td>1</td>\n",
       "      <td>1</td>\n",
       "      <td>Cumings, Mrs. John Bradley (Florence Briggs Th...</td>\n",
       "      <td>0</td>\n",
       "      <td>38.0</td>\n",
       "      <td>1</td>\n",
       "      <td>0</td>\n",
       "      <td>PC 17599</td>\n",
       "      <td>71.2833</td>\n",
       "      <td>1</td>\n",
       "    </tr>\n",
       "    <tr>\n",
       "      <th>3</th>\n",
       "      <td>1</td>\n",
       "      <td>3</td>\n",
       "      <td>Heikkinen, Miss. Laina</td>\n",
       "      <td>0</td>\n",
       "      <td>26.0</td>\n",
       "      <td>0</td>\n",
       "      <td>0</td>\n",
       "      <td>STON/O2. 3101282</td>\n",
       "      <td>7.9250</td>\n",
       "      <td>3</td>\n",
       "    </tr>\n",
       "    <tr>\n",
       "      <th>4</th>\n",
       "      <td>1</td>\n",
       "      <td>1</td>\n",
       "      <td>Futrelle, Mrs. Jacques Heath (Lily May Peel)</td>\n",
       "      <td>0</td>\n",
       "      <td>35.0</td>\n",
       "      <td>1</td>\n",
       "      <td>0</td>\n",
       "      <td>113803</td>\n",
       "      <td>53.1000</td>\n",
       "      <td>3</td>\n",
       "    </tr>\n",
       "    <tr>\n",
       "      <th>5</th>\n",
       "      <td>0</td>\n",
       "      <td>3</td>\n",
       "      <td>Allen, Mr. William Henry</td>\n",
       "      <td>1</td>\n",
       "      <td>35.0</td>\n",
       "      <td>0</td>\n",
       "      <td>0</td>\n",
       "      <td>373450</td>\n",
       "      <td>8.0500</td>\n",
       "      <td>3</td>\n",
       "    </tr>\n",
       "  </tbody>\n",
       "</table>\n",
       "</div>"
      ],
      "text/plain": [
       "             Survived  Pclass  \\\n",
       "PassengerId                     \n",
       "1                   0       3   \n",
       "2                   1       1   \n",
       "3                   1       3   \n",
       "4                   1       1   \n",
       "5                   0       3   \n",
       "\n",
       "                                                          Name Sex   Age  \\\n",
       "PassengerId                                                                \n",
       "1                                      Braund, Mr. Owen Harris   1  22.0   \n",
       "2            Cumings, Mrs. John Bradley (Florence Briggs Th...   0  38.0   \n",
       "3                                       Heikkinen, Miss. Laina   0  26.0   \n",
       "4                 Futrelle, Mrs. Jacques Heath (Lily May Peel)   0  35.0   \n",
       "5                                     Allen, Mr. William Henry   1  35.0   \n",
       "\n",
       "             SibSp  Parch            Ticket     Fare Embarked  \n",
       "PassengerId                                                    \n",
       "1                1      0         A/5 21171   7.2500        3  \n",
       "2                1      0          PC 17599  71.2833        1  \n",
       "3                0      0  STON/O2. 3101282   7.9250        3  \n",
       "4                1      0            113803  53.1000        3  \n",
       "5                0      0            373450   8.0500        3  "
      ]
     },
     "execution_count": 11,
     "metadata": {},
     "output_type": "execute_result"
    }
   ],
   "source": [
    "df['Sex'] = df['Sex'].apply(gender_converter)\n",
    "df['Embarked'] = df['Embarked'].apply(embarked_converter)\n",
    "\n",
    "df.head(5)"
   ]
  },
  {
   "cell_type": "markdown",
   "metadata": {},
   "source": [
    "**STEP (3): Imputing missing values**\n",
    "\n",
    "Previously, I eliminated a column with close to 78% nulls. Here, the percentage of missing values might be less but we cannot let them be. Instead, I will go ahead and impute those missing values with the help of some imputers.\n",
    "\n",
    "I will be implementing 3 imputers:\n",
    "\n",
    "- **FancyImpute's KNN()** which weights samples using the mean squared difference on features for which two rows both have observed data.\n",
    "- **FancyImpute's SoftImpute()** which completes the input matrix (array of values) by iterative soft thresholding of SVD decompositions.\n",
    "- **Scikit-Learn's Iterative Imputer()**  that estimates each feature from all the others. It is a strategy for imputing missing values by modeling each feature with missing values as a function of other features in a round-robin fashion.\n",
    "- **Scikit-Learn's Imputer(mean)** that replaces missing data by calculating 'mean' value of each column.\n",
    "- **Scikit-Learn's SimpleImputer(most_frequent)** that replaces missing data using the most frequent value along each column."
   ]
  },
  {
   "cell_type": "markdown",
   "metadata": {},
   "source": [
    "Before we get down to applying our imputer, lets get rid of predictors that do not contribute much to our model as seen in assignment 1. "
   ]
  },
  {
   "cell_type": "code",
   "execution_count": 12,
   "metadata": {},
   "outputs": [
    {
     "name": "stdout",
     "output_type": "stream",
     "text": [
      "(1309, 8)\n"
     ]
    },
    {
     "data": {
      "text/html": [
       "<div>\n",
       "<style scoped>\n",
       "    .dataframe tbody tr th:only-of-type {\n",
       "        vertical-align: middle;\n",
       "    }\n",
       "\n",
       "    .dataframe tbody tr th {\n",
       "        vertical-align: top;\n",
       "    }\n",
       "\n",
       "    .dataframe thead th {\n",
       "        text-align: right;\n",
       "    }\n",
       "</style>\n",
       "<table border=\"1\" class=\"dataframe\">\n",
       "  <thead>\n",
       "    <tr style=\"text-align: right;\">\n",
       "      <th></th>\n",
       "      <th>Survived</th>\n",
       "      <th>Pclass</th>\n",
       "      <th>Sex</th>\n",
       "      <th>Age</th>\n",
       "      <th>SibSp</th>\n",
       "      <th>Parch</th>\n",
       "      <th>Fare</th>\n",
       "      <th>Embarked</th>\n",
       "    </tr>\n",
       "    <tr>\n",
       "      <th>PassengerId</th>\n",
       "      <th></th>\n",
       "      <th></th>\n",
       "      <th></th>\n",
       "      <th></th>\n",
       "      <th></th>\n",
       "      <th></th>\n",
       "      <th></th>\n",
       "      <th></th>\n",
       "    </tr>\n",
       "  </thead>\n",
       "  <tbody>\n",
       "    <tr>\n",
       "      <th>1</th>\n",
       "      <td>0</td>\n",
       "      <td>3</td>\n",
       "      <td>1</td>\n",
       "      <td>22.0</td>\n",
       "      <td>1</td>\n",
       "      <td>0</td>\n",
       "      <td>7.2500</td>\n",
       "      <td>3</td>\n",
       "    </tr>\n",
       "    <tr>\n",
       "      <th>2</th>\n",
       "      <td>1</td>\n",
       "      <td>1</td>\n",
       "      <td>0</td>\n",
       "      <td>38.0</td>\n",
       "      <td>1</td>\n",
       "      <td>0</td>\n",
       "      <td>71.2833</td>\n",
       "      <td>1</td>\n",
       "    </tr>\n",
       "    <tr>\n",
       "      <th>3</th>\n",
       "      <td>1</td>\n",
       "      <td>3</td>\n",
       "      <td>0</td>\n",
       "      <td>26.0</td>\n",
       "      <td>0</td>\n",
       "      <td>0</td>\n",
       "      <td>7.9250</td>\n",
       "      <td>3</td>\n",
       "    </tr>\n",
       "    <tr>\n",
       "      <th>4</th>\n",
       "      <td>1</td>\n",
       "      <td>1</td>\n",
       "      <td>0</td>\n",
       "      <td>35.0</td>\n",
       "      <td>1</td>\n",
       "      <td>0</td>\n",
       "      <td>53.1000</td>\n",
       "      <td>3</td>\n",
       "    </tr>\n",
       "    <tr>\n",
       "      <th>5</th>\n",
       "      <td>0</td>\n",
       "      <td>3</td>\n",
       "      <td>1</td>\n",
       "      <td>35.0</td>\n",
       "      <td>0</td>\n",
       "      <td>0</td>\n",
       "      <td>8.0500</td>\n",
       "      <td>3</td>\n",
       "    </tr>\n",
       "  </tbody>\n",
       "</table>\n",
       "</div>"
      ],
      "text/plain": [
       "             Survived  Pclass Sex   Age  SibSp  Parch     Fare Embarked\n",
       "PassengerId                                                            \n",
       "1                   0       3   1  22.0      1      0   7.2500        3\n",
       "2                   1       1   0  38.0      1      0  71.2833        1\n",
       "3                   1       3   0  26.0      0      0   7.9250        3\n",
       "4                   1       1   0  35.0      1      0  53.1000        3\n",
       "5                   0       3   1  35.0      0      0   8.0500        3"
      ]
     },
     "execution_count": 12,
     "metadata": {},
     "output_type": "execute_result"
    }
   ],
   "source": [
    "df = df.drop(['Name','Ticket'], axis=1)\n",
    "print(df.shape)\n",
    "df.head(5)"
   ]
  },
  {
   "cell_type": "markdown",
   "metadata": {},
   "source": [
    "For the sake of keeping our input data similar and reducing the pain of referring to the original 'imbalanced' dataframe. Lets create copies of our data. We will be applying the imputers and scaling them ready for our classifiers to implement. Each of these copies will contain same number of nulls. "
   ]
  },
  {
   "cell_type": "code",
   "execution_count": 13,
   "metadata": {},
   "outputs": [],
   "source": [
    "df1 = df.copy()\n",
    "df2 = df.copy()\n",
    "df3 = df.copy()\n",
    "df4 = df.copy()\n",
    "df5 = df.copy()"
   ]
  },
  {
   "cell_type": "code",
   "execution_count": 14,
   "metadata": {},
   "outputs": [
    {
     "data": {
      "text/plain": [
       "Survived      0\n",
       "Pclass        0\n",
       "Sex           0\n",
       "Age         263\n",
       "SibSp         0\n",
       "Parch         0\n",
       "Fare          1\n",
       "Embarked      2\n",
       "dtype: int64"
      ]
     },
     "execution_count": 14,
     "metadata": {},
     "output_type": "execute_result"
    }
   ],
   "source": [
    "df.isnull().sum()"
   ]
  },
  {
   "cell_type": "markdown",
   "metadata": {},
   "source": [
    "### FancyImpute's KNN()"
   ]
  },
  {
   "cell_type": "code",
   "execution_count": 15,
   "metadata": {},
   "outputs": [
    {
     "name": "stderr",
     "output_type": "stream",
     "text": [
      "Using TensorFlow backend.\n"
     ]
    },
    {
     "name": "stdout",
     "output_type": "stream",
     "text": [
      "Imputing row 1/1309 with 0 missing, elapsed time: 0.332\n",
      "Imputing row 101/1309 with 0 missing, elapsed time: 0.333\n",
      "Imputing row 201/1309 with 0 missing, elapsed time: 0.334\n",
      "Imputing row 301/1309 with 1 missing, elapsed time: 0.335\n",
      "Imputing row 401/1309 with 0 missing, elapsed time: 0.336\n",
      "Imputing row 501/1309 with 0 missing, elapsed time: 0.337\n",
      "Imputing row 601/1309 with 0 missing, elapsed time: 0.338\n",
      "Imputing row 701/1309 with 0 missing, elapsed time: 0.340\n",
      "Imputing row 801/1309 with 0 missing, elapsed time: 0.341\n",
      "Imputing row 901/1309 with 0 missing, elapsed time: 0.341\n",
      "Imputing row 1001/1309 with 0 missing, elapsed time: 0.342\n",
      "Imputing row 1101/1309 with 0 missing, elapsed time: 0.344\n",
      "Imputing row 1201/1309 with 0 missing, elapsed time: 0.345\n",
      "Imputing row 1301/1309 with 0 missing, elapsed time: 0.346\n"
     ]
    }
   ],
   "source": [
    "from fancyimpute import KNN #pip install fancyimpute\n",
    "\n",
    "df1[['Age','Fare','Embarked']] = KNN(5).fit_transform(df1.iloc[:,[3,6,7]])"
   ]
  },
  {
   "cell_type": "code",
   "execution_count": 16,
   "metadata": {},
   "outputs": [
    {
     "data": {
      "text/plain": [
       "Survived    0\n",
       "Pclass      0\n",
       "Sex         0\n",
       "Age         0\n",
       "SibSp       0\n",
       "Parch       0\n",
       "Fare        0\n",
       "Embarked    0\n",
       "dtype: int64"
      ]
     },
     "execution_count": 16,
     "metadata": {},
     "output_type": "execute_result"
    }
   ],
   "source": [
    "df1.isnull().sum()"
   ]
  },
  {
   "cell_type": "markdown",
   "metadata": {},
   "source": [
    "**Step (3): Scaling**\n",
    "\n",
    "The idea behind StandardScaler is that it will transform your data such that its distribution will have a mean value 0 and standard deviation of 1. Given the distribution of the data, each value in the dataset will have the sample mean value subtracted, and then divided by the standard deviation of the whole dataset."
   ]
  },
  {
   "cell_type": "code",
   "execution_count": 17,
   "metadata": {},
   "outputs": [],
   "source": [
    "from sklearn.preprocessing import StandardScaler\n",
    "\n",
    "scaler = StandardScaler()\n",
    "scaler.fit(df1[['Age','Fare']])\n",
    "df1[['Age','Fare']] = scaler.transform(df1[['Age','Fare']])"
   ]
  },
  {
   "cell_type": "markdown",
   "metadata": {},
   "source": [
    "### Train-valid-test split\n",
    "\n",
    "We plit the data into three sets in a 70-15-15 manner. This means 70% of the data rows go into building or training the model. \n",
    "This 70% is often called a training set. 15% of the data goes into evaluating model performance as you manually change or set the model hyperparameters (e.g. Value of K is a hyperparameter,in K-NN algorithm). This dataset is sometimes called a holdout set or the validation set. Finally, the last 15% of the data is the test set.  This dataset is never \"seen\" by the model for model building or hyperparamter tuning. After hyperparameter tuning and model selection, which we will discuss later, the model's final performance before sneidng it to production, will be evalauted on this test data set.\n",
    "\n",
    "I achieved this with a two-step process\n",
    "1. Split the source dataset into 70%(training)/30%(validation + test)\n",
    "2. Split the 30%(validation + test) into 2 halves: 15%(validation)/15%(test)"
   ]
  },
  {
   "cell_type": "code",
   "execution_count": 18,
   "metadata": {},
   "outputs": [
    {
     "name": "stdout",
     "output_type": "stream",
     "text": [
      "Training Set: (916, 7)\n",
      "Validation Set: (196, 7)\n",
      "Test Set: (197, 7)\n"
     ]
    }
   ],
   "source": [
    "from sklearn.model_selection import train_test_split\n",
    "\n",
    "y = df1['Survived']\n",
    "X = df1.drop('Survived', axis=1)\n",
    "\n",
    "# 70% training and 30% validation + test\n",
    "X_train1, X_val_test1, y_train1, y_val_test1 = train_test_split(X,y,test_size=0.30)\n",
    "\n",
    "# 15% validation and 15% test\n",
    "X_val1, X_test1, y_val1, y_test1 = train_test_split(X_val_test1, y_val_test1, test_size=0.50)\n",
    "\n",
    "print(\"Training Set:\", X_train1.shape)\n",
    "print(\"Validation Set:\", X_val1.shape)\n",
    "print(\"Test Set:\", X_test1.shape)"
   ]
  },
  {
   "cell_type": "markdown",
   "metadata": {},
   "source": [
    "Next, lets implement our classifier. Here I am going to select the best parameters for our model that were rendered by GridSearchCV in assignment 1. "
   ]
  },
  {
   "cell_type": "code",
   "execution_count": 19,
   "metadata": {},
   "outputs": [
    {
     "name": "stdout",
     "output_type": "stream",
     "text": [
      "Validation set classification report:\n",
      "\n",
      "               precision    recall  f1-score   support\n",
      "\n",
      "           0       0.75      0.75      0.75       122\n",
      "           1       0.59      0.58      0.59        74\n",
      "\n",
      "    accuracy                           0.69       196\n",
      "   macro avg       0.67      0.67      0.67       196\n",
      "weighted avg       0.69      0.69      0.69       196\n",
      "\n"
     ]
    }
   ],
   "source": [
    "from sklearn.neighbors import KNeighborsClassifier\n",
    "from sklearn.metrics import confusion_matrix, classification_report\n",
    "\n",
    "knn1 = KNeighborsClassifier(n_neighbors=27,weights = 'uniform', metric = 'manhattan')\n",
    "\n",
    "knn1.fit(X_train1,y_train1)\n",
    "pred_val1 = knn1.predict(X_val1)\n",
    "\n",
    "report = classification_report(y_val1,pred_val1)\n",
    "print(\"Validation set classification report:\\n\\n\", report)"
   ]
  },
  {
   "cell_type": "markdown",
   "metadata": {},
   "source": [
    "We know the overall accuracy of our classifier so lets try and calculate the ROC score. \n",
    "\n",
    "The point of a ROC curve (and the area under it) is that you study the precision-recall tradeoff as the classification threshold is varied. By default in a binary classification task, if your classifier's score is > 0.5, then class1 is predicted, otherwise class0 is predicted. As you change that threshold, you get a curve. The higher up the curve is (more area under it), the better that classifier. However, to get this curve you need access to the scores of a classifier, not its decisions. Otherwise whatever the decision threshold is, the decision stay the same, and AUC degenerates to accuracy."
   ]
  },
  {
   "cell_type": "code",
   "execution_count": 20,
   "metadata": {},
   "outputs": [
    {
     "name": "stdout",
     "output_type": "stream",
     "text": [
      "Accuracy score: 0.69\n",
      "ROC AUC: 0.67\n"
     ]
    }
   ],
   "source": [
    "from sklearn.metrics import confusion_matrix,accuracy_score,matthews_corrcoef,f1_score\n",
    "from sklearn import metrics\n",
    "\n",
    "knn1_accuracy = np.round(accuracy_score(y_val1,pred_val1),2)\n",
    "print(\"Accuracy score:\",knn1_accuracy) \n",
    "\n",
    "# calculate the fpr and tpr for all thresholds of the classification\n",
    "probs = knn1.predict_proba(X_val1)\n",
    "preds = probs[:,1]\n",
    "fpr1, tpr1, threshold1 = metrics.roc_curve(y_val1,pred_val1)\n",
    "roc_auc1 = metrics.auc(fpr1, tpr1)\n",
    "\n",
    "print('ROC AUC:',np.round(roc_auc1,2))"
   ]
  },
  {
   "cell_type": "markdown",
   "metadata": {},
   "source": [
    "### FancyImpute's SoftImpute()"
   ]
  },
  {
   "cell_type": "code",
   "execution_count": 21,
   "metadata": {
    "scrolled": true
   },
   "outputs": [
    {
     "name": "stdout",
     "output_type": "stream",
     "text": [
      "[SoftImpute] Max Singular Value of X_init = 2313.581507\n",
      "[SoftImpute] Iter 1: observed MAE=0.953981 rank=3\n",
      "[SoftImpute] Iter 2: observed MAE=0.955095 rank=3\n",
      "[SoftImpute] Iter 3: observed MAE=0.955242 rank=3\n",
      "[SoftImpute] Iter 4: observed MAE=0.955331 rank=3\n",
      "[SoftImpute] Iter 5: observed MAE=0.955410 rank=3\n",
      "[SoftImpute] Iter 6: observed MAE=0.955502 rank=3\n",
      "[SoftImpute] Iter 7: observed MAE=0.955579 rank=3\n",
      "[SoftImpute] Iter 8: observed MAE=0.955647 rank=3\n",
      "[SoftImpute] Iter 9: observed MAE=0.955698 rank=3\n",
      "[SoftImpute] Iter 10: observed MAE=0.955734 rank=3\n",
      "[SoftImpute] Iter 11: observed MAE=0.955759 rank=3\n",
      "[SoftImpute] Iter 12: observed MAE=0.955791 rank=3\n",
      "[SoftImpute] Iter 13: observed MAE=0.955817 rank=3\n",
      "[SoftImpute] Iter 14: observed MAE=0.955833 rank=3\n",
      "[SoftImpute] Iter 15: observed MAE=0.955840 rank=3\n",
      "[SoftImpute] Iter 16: observed MAE=0.955839 rank=3\n",
      "[SoftImpute] Iter 17: observed MAE=0.955831 rank=3\n",
      "[SoftImpute] Iter 18: observed MAE=0.955818 rank=3\n",
      "[SoftImpute] Iter 19: observed MAE=0.955801 rank=3\n",
      "[SoftImpute] Iter 20: observed MAE=0.955792 rank=3\n",
      "[SoftImpute] Iter 21: observed MAE=0.955781 rank=3\n",
      "[SoftImpute] Iter 22: observed MAE=0.955768 rank=3\n",
      "[SoftImpute] Iter 23: observed MAE=0.955751 rank=3\n",
      "[SoftImpute] Iter 24: observed MAE=0.955732 rank=3\n",
      "[SoftImpute] Iter 25: observed MAE=0.955711 rank=3\n",
      "[SoftImpute] Iter 26: observed MAE=0.955688 rank=3\n",
      "[SoftImpute] Iter 27: observed MAE=0.955664 rank=3\n",
      "[SoftImpute] Iter 28: observed MAE=0.955640 rank=3\n",
      "[SoftImpute] Iter 29: observed MAE=0.955615 rank=3\n",
      "[SoftImpute] Iter 30: observed MAE=0.955590 rank=3\n",
      "[SoftImpute] Iter 31: observed MAE=0.955564 rank=3\n",
      "[SoftImpute] Iter 32: observed MAE=0.955541 rank=3\n",
      "[SoftImpute] Iter 33: observed MAE=0.955520 rank=3\n",
      "[SoftImpute] Iter 34: observed MAE=0.955499 rank=3\n",
      "[SoftImpute] Iter 35: observed MAE=0.955478 rank=3\n",
      "[SoftImpute] Iter 36: observed MAE=0.955458 rank=3\n",
      "[SoftImpute] Iter 37: observed MAE=0.955437 rank=3\n",
      "[SoftImpute] Iter 38: observed MAE=0.955418 rank=3\n",
      "[SoftImpute] Iter 39: observed MAE=0.955399 rank=3\n",
      "[SoftImpute] Iter 40: observed MAE=0.955381 rank=3\n",
      "[SoftImpute] Iter 41: observed MAE=0.955364 rank=3\n",
      "[SoftImpute] Iter 42: observed MAE=0.955349 rank=3\n",
      "[SoftImpute] Iter 43: observed MAE=0.955335 rank=3\n",
      "[SoftImpute] Iter 44: observed MAE=0.955321 rank=3\n",
      "[SoftImpute] Iter 45: observed MAE=0.955307 rank=3\n",
      "[SoftImpute] Iter 46: observed MAE=0.955294 rank=3\n",
      "[SoftImpute] Iter 47: observed MAE=0.955282 rank=3\n",
      "[SoftImpute] Iter 48: observed MAE=0.955270 rank=3\n",
      "[SoftImpute] Iter 49: observed MAE=0.955260 rank=3\n",
      "[SoftImpute] Iter 50: observed MAE=0.955251 rank=3\n",
      "[SoftImpute] Iter 51: observed MAE=0.955241 rank=3\n",
      "[SoftImpute] Iter 52: observed MAE=0.955232 rank=3\n",
      "[SoftImpute] Iter 53: observed MAE=0.955223 rank=3\n",
      "[SoftImpute] Iter 54: observed MAE=0.955215 rank=3\n",
      "[SoftImpute] Iter 55: observed MAE=0.955207 rank=3\n",
      "[SoftImpute] Iter 56: observed MAE=0.955199 rank=3\n",
      "[SoftImpute] Iter 57: observed MAE=0.955192 rank=3\n",
      "[SoftImpute] Iter 58: observed MAE=0.955185 rank=3\n",
      "[SoftImpute] Iter 59: observed MAE=0.955179 rank=3\n",
      "[SoftImpute] Iter 60: observed MAE=0.955172 rank=3\n",
      "[SoftImpute] Iter 61: observed MAE=0.955166 rank=3\n",
      "[SoftImpute] Iter 62: observed MAE=0.955161 rank=3\n",
      "[SoftImpute] Iter 63: observed MAE=0.955155 rank=3\n",
      "[SoftImpute] Iter 64: observed MAE=0.955150 rank=3\n",
      "[SoftImpute] Iter 65: observed MAE=0.955145 rank=3\n",
      "[SoftImpute] Iter 66: observed MAE=0.955141 rank=3\n",
      "[SoftImpute] Iter 67: observed MAE=0.955136 rank=3\n",
      "[SoftImpute] Iter 68: observed MAE=0.955132 rank=3\n",
      "[SoftImpute] Iter 69: observed MAE=0.955129 rank=3\n",
      "[SoftImpute] Iter 70: observed MAE=0.955125 rank=3\n",
      "[SoftImpute] Iter 71: observed MAE=0.955121 rank=3\n",
      "[SoftImpute] Iter 72: observed MAE=0.955118 rank=3\n",
      "[SoftImpute] Iter 73: observed MAE=0.955115 rank=3\n",
      "[SoftImpute] Iter 74: observed MAE=0.955112 rank=3\n",
      "[SoftImpute] Iter 75: observed MAE=0.955109 rank=3\n",
      "[SoftImpute] Iter 76: observed MAE=0.955106 rank=3\n",
      "[SoftImpute] Iter 77: observed MAE=0.955104 rank=3\n",
      "[SoftImpute] Iter 78: observed MAE=0.955101 rank=3\n",
      "[SoftImpute] Iter 79: observed MAE=0.955099 rank=3\n",
      "[SoftImpute] Iter 80: observed MAE=0.955097 rank=3\n",
      "[SoftImpute] Iter 81: observed MAE=0.955094 rank=3\n",
      "[SoftImpute] Iter 82: observed MAE=0.955093 rank=3\n",
      "[SoftImpute] Iter 83: observed MAE=0.955092 rank=3\n",
      "[SoftImpute] Iter 84: observed MAE=0.955091 rank=3\n",
      "[SoftImpute] Stopped after iteration 84 for lambda=46.271630\n"
     ]
    }
   ],
   "source": [
    "from fancyimpute import SoftImpute\n",
    "\n",
    "df2[['Age','Fare','Embarked']] = SoftImpute().fit_transform(df2.iloc[:,[3,6,7]])"
   ]
  },
  {
   "cell_type": "code",
   "execution_count": 22,
   "metadata": {},
   "outputs": [],
   "source": [
    "scaler = StandardScaler()\n",
    "scaler.fit(df2[['Age','Fare']])\n",
    "df2[['Age','Fare']] = scaler.transform(df2[['Age','Fare']])"
   ]
  },
  {
   "cell_type": "code",
   "execution_count": 23,
   "metadata": {},
   "outputs": [
    {
     "name": "stdout",
     "output_type": "stream",
     "text": [
      "Training Set: (916, 7)\n",
      "Validation Set: (196, 7)\n",
      "Test Set: (197, 7)\n"
     ]
    }
   ],
   "source": [
    "y = df2['Survived']\n",
    "X = df2.drop('Survived', axis=1)\n",
    "\n",
    "# 70% training and 30% validation + test\n",
    "X_train2, X_val_test2, y_train2, y_val_test2 = train_test_split(X,y,test_size=0.30)\n",
    "\n",
    "# 15% validation and 15% test\n",
    "X_val2, X_test2, y_val2, y_test2 = train_test_split(X_val_test2, y_val_test2, test_size=0.50)\n",
    "\n",
    "print(\"Training Set:\", X_train2.shape)\n",
    "print(\"Validation Set:\", X_val2.shape)\n",
    "print(\"Test Set:\", X_test2.shape)"
   ]
  },
  {
   "cell_type": "code",
   "execution_count": 24,
   "metadata": {},
   "outputs": [
    {
     "name": "stdout",
     "output_type": "stream",
     "text": [
      "Validation set classification report:\n",
      "\n",
      "               precision    recall  f1-score   support\n",
      "\n",
      "           0       0.73      0.84      0.79       128\n",
      "           1       0.59      0.43      0.50        68\n",
      "\n",
      "    accuracy                           0.70       196\n",
      "   macro avg       0.66      0.64      0.64       196\n",
      "weighted avg       0.69      0.70      0.68       196\n",
      "\n"
     ]
    }
   ],
   "source": [
    "knn2 = KNeighborsClassifier(n_neighbors=27,weights = 'uniform', metric = 'manhattan')\n",
    "\n",
    "knn2.fit(X_train2,y_train2)\n",
    "pred_val2 = knn2.predict(X_val2)\n",
    "\n",
    "report = classification_report(y_val2,pred_val2)\n",
    "print(\"Validation set classification report:\\n\\n\", report)"
   ]
  },
  {
   "cell_type": "code",
   "execution_count": 25,
   "metadata": {},
   "outputs": [
    {
     "name": "stdout",
     "output_type": "stream",
     "text": [
      "Accuracy score: 0.7\n",
      "ROC AUC: 0.64\n"
     ]
    }
   ],
   "source": [
    "knn2_accuracy = np.round(accuracy_score(y_val2,pred_val2),2)\n",
    "print(\"Accuracy score:\",knn2_accuracy) \n",
    "\n",
    "# calculate the fpr and tpr for all thresholds of the classification\n",
    "probs = knn2.predict_proba(X_val2)\n",
    "preds = probs[:,1]\n",
    "fpr2, tpr2, threshold2 = metrics.roc_curve(y_val2,pred_val2)\n",
    "roc_auc2 = metrics.auc(fpr2, tpr2)\n",
    "\n",
    "print('ROC AUC:',np.round(roc_auc2,2))"
   ]
  },
  {
   "cell_type": "markdown",
   "metadata": {},
   "source": [
    "### Scikit Learn's IterativeImputer()"
   ]
  },
  {
   "cell_type": "code",
   "execution_count": 26,
   "metadata": {},
   "outputs": [],
   "source": [
    "from sklearn.experimental import enable_iterative_imputer\n",
    "from sklearn.impute import IterativeImputer\n",
    "\n",
    "iter_imp = IterativeImputer(max_iter=10, random_state=0)\n",
    "\n",
    "df3[['Age','Fare','Embarked']] = iter_imp.fit_transform(df3.iloc[:,[3,6,7]])"
   ]
  },
  {
   "cell_type": "code",
   "execution_count": 27,
   "metadata": {},
   "outputs": [
    {
     "data": {
      "text/plain": [
       "Survived    0\n",
       "Pclass      0\n",
       "Sex         0\n",
       "Age         0\n",
       "SibSp       0\n",
       "Parch       0\n",
       "Fare        0\n",
       "Embarked    0\n",
       "dtype: int64"
      ]
     },
     "execution_count": 27,
     "metadata": {},
     "output_type": "execute_result"
    }
   ],
   "source": [
    "df3.isnull().sum()"
   ]
  },
  {
   "cell_type": "code",
   "execution_count": 28,
   "metadata": {},
   "outputs": [],
   "source": [
    "scaler = StandardScaler()\n",
    "scaler.fit(df3[['Age','Fare']])\n",
    "df3[['Age','Fare']] = scaler.transform(df3[['Age','Fare']])"
   ]
  },
  {
   "cell_type": "code",
   "execution_count": 29,
   "metadata": {},
   "outputs": [
    {
     "name": "stdout",
     "output_type": "stream",
     "text": [
      "Training Set: (916, 7)\n",
      "Validation Set: (196, 7)\n",
      "Test Set: (197, 7)\n"
     ]
    }
   ],
   "source": [
    "y = df3['Survived']\n",
    "X = df3.drop('Survived', axis=1)\n",
    "\n",
    "# 70% training and 30% validation + test\n",
    "X_train3, X_val_test3, y_train3, y_val_test3 = train_test_split(X,y,test_size=0.30)\n",
    "\n",
    "# 15% validation and 15% test\n",
    "X_val3, X_test3, y_val3, y_test3 = train_test_split(X_val_test3, y_val_test3, test_size=0.50)\n",
    "\n",
    "print(\"Training Set:\", X_train3.shape)\n",
    "print(\"Validation Set:\", X_val3.shape)\n",
    "print(\"Test Set:\", X_test3.shape)"
   ]
  },
  {
   "cell_type": "code",
   "execution_count": 30,
   "metadata": {},
   "outputs": [
    {
     "name": "stdout",
     "output_type": "stream",
     "text": [
      "Validation set classification report:\n",
      "\n",
      "               precision    recall  f1-score   support\n",
      "\n",
      "           0       0.69      0.86      0.76       113\n",
      "           1       0.71      0.47      0.57        83\n",
      "\n",
      "    accuracy                           0.69       196\n",
      "   macro avg       0.70      0.66      0.66       196\n",
      "weighted avg       0.70      0.69      0.68       196\n",
      "\n"
     ]
    }
   ],
   "source": [
    "knn3 = KNeighborsClassifier(n_neighbors=27,weights = 'uniform', metric = 'manhattan')\n",
    "\n",
    "knn3.fit(X_train3,y_train3)\n",
    "pred_val3 = knn3.predict(X_val3)\n",
    "\n",
    "report = classification_report(y_val3,pred_val3)\n",
    "print(\"Validation set classification report:\\n\\n\", report)"
   ]
  },
  {
   "cell_type": "code",
   "execution_count": 31,
   "metadata": {},
   "outputs": [
    {
     "name": "stdout",
     "output_type": "stream",
     "text": [
      "Accuracy score: 0.69\n",
      "ROC AUC: 0.66\n"
     ]
    }
   ],
   "source": [
    "knn3_accuracy = np.round(accuracy_score(y_val3,pred_val3),2)\n",
    "print(\"Accuracy score:\",knn3_accuracy) \n",
    "\n",
    "# calculate the fpr and tpr for all thresholds of the classification\n",
    "probs = knn3.predict_proba(X_val3)\n",
    "preds = probs[:,1]\n",
    "fpr3, tpr3, threshold3 = metrics.roc_curve(y_val3,pred_val3)\n",
    "roc_auc3 = metrics.auc(fpr3, tpr3)\n",
    "\n",
    "print('ROC AUC:',np.round(roc_auc3,2))"
   ]
  },
  {
   "cell_type": "markdown",
   "metadata": {},
   "source": [
    "### Scikit-Learn's Imputer()"
   ]
  },
  {
   "cell_type": "code",
   "execution_count": 32,
   "metadata": {},
   "outputs": [
    {
     "name": "stderr",
     "output_type": "stream",
     "text": [
      "C:\\Users\\gaure\\Anaconda3\\lib\\site-packages\\sklearn\\utils\\deprecation.py:66: DeprecationWarning: Class Imputer is deprecated; Imputer was deprecated in version 0.20 and will be removed in 0.22. Import impute.SimpleImputer from sklearn instead.\n",
      "  warnings.warn(msg, category=DeprecationWarning)\n"
     ]
    }
   ],
   "source": [
    "from sklearn.preprocessing import Imputer\n",
    "imp = Imputer(missing_values='NaN', strategy='mean', axis=0)\n",
    "imp.fit(df4.iloc[:,[3,6,7]])\n",
    "\n",
    "df4[['Age','Fare','Embarked']] = imp.fit_transform(df4.iloc[:,[3,6,7]])"
   ]
  },
  {
   "cell_type": "code",
   "execution_count": 33,
   "metadata": {},
   "outputs": [
    {
     "data": {
      "text/plain": [
       "Survived    0\n",
       "Pclass      0\n",
       "Sex         0\n",
       "Age         0\n",
       "SibSp       0\n",
       "Parch       0\n",
       "Fare        0\n",
       "Embarked    0\n",
       "dtype: int64"
      ]
     },
     "execution_count": 33,
     "metadata": {},
     "output_type": "execute_result"
    }
   ],
   "source": [
    "df4.isnull().sum()"
   ]
  },
  {
   "cell_type": "code",
   "execution_count": 34,
   "metadata": {},
   "outputs": [],
   "source": [
    "from sklearn.preprocessing import StandardScaler\n",
    "\n",
    "scaler = StandardScaler()\n",
    "scaler.fit(df4[['Age','Fare']])\n",
    "df4[['Age','Fare']] = scaler.transform(df4[['Age','Fare']])"
   ]
  },
  {
   "cell_type": "code",
   "execution_count": 35,
   "metadata": {},
   "outputs": [
    {
     "name": "stdout",
     "output_type": "stream",
     "text": [
      "Training Set: (916, 7)\n",
      "Validation Set: (196, 7)\n",
      "Test Set: (197, 7)\n"
     ]
    }
   ],
   "source": [
    "y = df4['Survived']\n",
    "X = df4.drop('Survived', axis=1)\n",
    "\n",
    "# 70% training and 30% validation + test\n",
    "X_train4, X_val_test4, y_train4, y_val_test4 = train_test_split(X,y,test_size=0.30)\n",
    "\n",
    "# 15% validation and 15% test\n",
    "X_val4, X_test4, y_val4, y_test4 = train_test_split(X_val_test4, y_val_test4, test_size=0.50)\n",
    "\n",
    "print(\"Training Set:\", X_train4.shape)\n",
    "print(\"Validation Set:\", X_val4.shape)\n",
    "print(\"Test Set:\", X_test4.shape)"
   ]
  },
  {
   "cell_type": "code",
   "execution_count": 36,
   "metadata": {},
   "outputs": [
    {
     "name": "stdout",
     "output_type": "stream",
     "text": [
      "Validation set classification report:\n",
      "\n",
      "               precision    recall  f1-score   support\n",
      "\n",
      "           0       0.75      0.79      0.77       126\n",
      "           1       0.58      0.51      0.55        70\n",
      "\n",
      "    accuracy                           0.69       196\n",
      "   macro avg       0.66      0.65      0.66       196\n",
      "weighted avg       0.69      0.69      0.69       196\n",
      "\n"
     ]
    }
   ],
   "source": [
    "from sklearn.neighbors import KNeighborsClassifier\n",
    "from sklearn.metrics import confusion_matrix, classification_report\n",
    "\n",
    "knn4 = KNeighborsClassifier(n_neighbors=27,weights = 'uniform', metric = 'manhattan')\n",
    "\n",
    "knn4.fit(X_train4,y_train4)\n",
    "pred_val4 = knn4.predict(X_val4)\n",
    "\n",
    "report = classification_report(y_val4,pred_val4)\n",
    "print(\"Validation set classification report:\\n\\n\", report)"
   ]
  },
  {
   "cell_type": "code",
   "execution_count": 37,
   "metadata": {},
   "outputs": [
    {
     "name": "stdout",
     "output_type": "stream",
     "text": [
      "Accuracy score: 0.69\n",
      "ROC AUC: 0.65\n"
     ]
    }
   ],
   "source": [
    "from sklearn.metrics import confusion_matrix,accuracy_score,matthews_corrcoef,f1_score\n",
    "from sklearn import metrics\n",
    "\n",
    "knn4_accuracy = np.round(accuracy_score(y_val4,pred_val4),2)\n",
    "print(\"Accuracy score:\",knn4_accuracy) \n",
    "\n",
    "# calculate the fpr and tpr for all thresholds of the classification\n",
    "probs = knn4.predict_proba(X_val4)\n",
    "preds = probs[:,1]\n",
    "fpr4, tpr4, threshold4 = metrics.roc_curve(y_val4,pred_val4)\n",
    "roc_auc4 = metrics.auc(fpr4, tpr4)\n",
    "\n",
    "print('ROC AUC:',np.round(roc_auc4,2))"
   ]
  },
  {
   "cell_type": "markdown",
   "metadata": {},
   "source": [
    "### Scitkit Learn's SimpleImputer()"
   ]
  },
  {
   "cell_type": "code",
   "execution_count": 38,
   "metadata": {},
   "outputs": [],
   "source": [
    "from sklearn.impute import SimpleImputer\n",
    "\n",
    "si = SimpleImputer( strategy='most_frequent')\n",
    "si.fit(df5.iloc[:,[3,6,7]])\n",
    "\n",
    "df5[['Age','Fare','Embarked']] = imp.fit_transform(df5.iloc[:,[3,6,7]])"
   ]
  },
  {
   "cell_type": "code",
   "execution_count": 39,
   "metadata": {},
   "outputs": [
    {
     "data": {
      "text/plain": [
       "Survived    0\n",
       "Pclass      0\n",
       "Sex         0\n",
       "Age         0\n",
       "SibSp       0\n",
       "Parch       0\n",
       "Fare        0\n",
       "Embarked    0\n",
       "dtype: int64"
      ]
     },
     "execution_count": 39,
     "metadata": {},
     "output_type": "execute_result"
    }
   ],
   "source": [
    "df5.isnull().sum()"
   ]
  },
  {
   "cell_type": "code",
   "execution_count": 40,
   "metadata": {},
   "outputs": [],
   "source": [
    "scaler = StandardScaler()\n",
    "scaler.fit(df5[['Age','Fare']])\n",
    "df5[['Age','Fare']] = scaler.transform(df5[['Age','Fare']])"
   ]
  },
  {
   "cell_type": "code",
   "execution_count": 41,
   "metadata": {},
   "outputs": [
    {
     "name": "stdout",
     "output_type": "stream",
     "text": [
      "Training Set: (916, 7)\n",
      "Validation Set: (196, 7)\n",
      "Test Set: (197, 7)\n"
     ]
    }
   ],
   "source": [
    "y = df5['Survived']\n",
    "X = df5.drop('Survived', axis=1)\n",
    "\n",
    "# 70% training and 30% validation + test\n",
    "X_train5, X_val_test5, y_train5, y_val_test5 = train_test_split(X,y,test_size=0.30)\n",
    "\n",
    "# 15% validation and 15% test\n",
    "X_val5, X_test5, y_val5, y_test5 = train_test_split(X_val_test5, y_val_test5, test_size=0.50)\n",
    "\n",
    "print(\"Training Set:\", X_train5.shape)\n",
    "print(\"Validation Set:\", X_val5.shape)\n",
    "print(\"Test Set:\", X_test5.shape)"
   ]
  },
  {
   "cell_type": "code",
   "execution_count": 42,
   "metadata": {},
   "outputs": [
    {
     "name": "stdout",
     "output_type": "stream",
     "text": [
      "Validation set classification report:\n",
      "\n",
      "               precision    recall  f1-score   support\n",
      "\n",
      "           0       0.80      0.83      0.82       126\n",
      "           1       0.68      0.63      0.65        70\n",
      "\n",
      "    accuracy                           0.76       196\n",
      "   macro avg       0.74      0.73      0.73       196\n",
      "weighted avg       0.76      0.76      0.76       196\n",
      "\n"
     ]
    }
   ],
   "source": [
    "knn5 = KNeighborsClassifier(n_neighbors=27,weights = 'uniform', metric = 'manhattan')\n",
    "\n",
    "knn5.fit(X_train5,y_train5)\n",
    "pred_val5 = knn5.predict(X_val5)\n",
    "\n",
    "report = classification_report(y_val5,pred_val5)\n",
    "print(\"Validation set classification report:\\n\\n\", report)"
   ]
  },
  {
   "cell_type": "code",
   "execution_count": 43,
   "metadata": {},
   "outputs": [
    {
     "name": "stdout",
     "output_type": "stream",
     "text": [
      "Accuracy score: 0.76\n",
      "ROC AUC: 0.73\n"
     ]
    }
   ],
   "source": [
    "knn5_accuracy = np.round(accuracy_score(y_val5,pred_val5),2)\n",
    "print(\"Accuracy score:\",knn5_accuracy) \n",
    "\n",
    "# calculate the fpr and tpr for all thresholds of the classification\n",
    "probs = knn5.predict_proba(X_val5)\n",
    "preds = probs[:,1]\n",
    "fpr5, tpr5, threshold5 = metrics.roc_curve(y_val5,pred_val5)\n",
    "roc_auc5 = metrics.auc(fpr5, tpr5)\n",
    "\n",
    "print('ROC AUC:',np.round(roc_auc5,2))"
   ]
  },
  {
   "cell_type": "markdown",
   "metadata": {},
   "source": [
    "### Plotting ROC curve"
   ]
  },
  {
   "cell_type": "code",
   "execution_count": 44,
   "metadata": {},
   "outputs": [
    {
     "data": {
      "image/png": "[encoded data removed]",
      "text/plain": [
       "<Figure size 1080x720 with 1 Axes>"
      ]
     },
     "metadata": {
      "needs_background": "light"
     },
     "output_type": "display_data"
    }
   ],
   "source": [
    "plt.figure(figsize=(15,10))\n",
    "plt.title('Receiver Operating Characteristic for Imputing Methods')\n",
    "plt.plot(fpr1, tpr1, 'b', label = 'FancyImpute KNN(): AUC = %0.2f' % roc_auc1)\n",
    "plt.plot(fpr2, tpr2, 'g', label = 'FancyImpute SoftImpute(): AUC = %0.2f' % roc_auc2)\n",
    "plt.plot(fpr3, tpr3, 'r', label = 'SkLearn Iterative Imputer(): AUC = %0.2f' % roc_auc3)\n",
    "plt.plot(fpr4, tpr4, 'y', label = 'SkLearn Imputer(mean): AUC = %0.2f' % roc_auc4)\n",
    "plt.plot(fpr5, tpr5, 'black', label = 'SkLearn SimpleImputer(most_frequent): AUC = %0.2f' % roc_auc5)\n",
    "plt.legend(loc = 'lower right')\n",
    "plt.plot([0, 1], [0, 1],'r--')\n",
    "plt.xlim([0, 1])\n",
    "plt.ylim([0, 1])\n",
    "plt.ylabel('True Positive Rate')\n",
    "plt.xlabel('False Positive Rate')\n",
    "plt.show()"
   ]
  },
  {
   "cell_type": "markdown",
   "metadata": {},
   "source": [
    "Looks like Sklearn's SimpleImputer(most_frequent) has the best performance amongst all. Now lets find out the test set accuracy on the soft imputed data i.e df1. Training set accuracy was 76%"
   ]
  },
  {
   "cell_type": "code",
   "execution_count": 65,
   "metadata": {},
   "outputs": [
    {
     "name": "stdout",
     "output_type": "stream",
     "text": [
      "Test set classification report:\n",
      "\n",
      "               precision    recall  f1-score   support\n",
      "\n",
      "           0       0.73      0.82      0.77       119\n",
      "           1       0.66      0.54      0.59        78\n",
      "\n",
      "    accuracy                           0.71       197\n",
      "   macro avg       0.69      0.68      0.68       197\n",
      "weighted avg       0.70      0.71      0.70       197\n",
      "\n"
     ]
    }
   ],
   "source": [
    "knn5.fit(X_train5,y_train5)\n",
    "pred_test5 = knn5.predict(X_test5)\n",
    "\n",
    "report = classification_report(y_test5,pred_test5)\n",
    "print(\"Test set classification report:\\n\\n\", report)"
   ]
  },
  {
   "cell_type": "markdown",
   "metadata": {},
   "source": [
    "Accuracy actually decreased from 76% to 71%"
   ]
  },
  {
   "cell_type": "markdown",
   "metadata": {},
   "source": [
    "---"
   ]
  },
  {
   "cell_type": "markdown",
   "metadata": {},
   "source": [
    "**2. Briefly describe how gradient boosting differs from bagging. Implement gradient boosting as invoked in scikit-learn, and evaluate classifier accuracy for the Titanic dataset**"
   ]
  },
  {
   "cell_type": "markdown",
   "metadata": {},
   "source": [
    "- Bagging and Boosting both are ensemble methods that get N learners by generating additional data by random sampling with replacement from the original set. By sampling with replacement, some observations may be repeated in each new training data set. In the case of Bagging, any element has the same probability to appear in a new data set. However, for Boosting the observations are weighted and therefore some of them will take part in the new sets more often\n",
    "- Both methods make the final decision by averaging the N learners but for Bagging it is a equally weighted average whereas for Boosting more weight is accounted to those with better performance on training data.\n",
    "- Both are equally good at reducing variance but only boosting tries to reduce bias"
   ]
  },
  {
   "cell_type": "markdown",
   "metadata": {},
   "source": [
    "So, for this particular task, I will be using df5 copy of our data since it has already been scaled and imputed with Sklearn's Imputer() which evidently gives us the best performances for a classifier. "
   ]
  },
  {
   "cell_type": "code",
   "execution_count": 66,
   "metadata": {},
   "outputs": [
    {
     "data": {
      "text/html": [
       "<div>\n",
       "<style scoped>\n",
       "    .dataframe tbody tr th:only-of-type {\n",
       "        vertical-align: middle;\n",
       "    }\n",
       "\n",
       "    .dataframe tbody tr th {\n",
       "        vertical-align: top;\n",
       "    }\n",
       "\n",
       "    .dataframe thead th {\n",
       "        text-align: right;\n",
       "    }\n",
       "</style>\n",
       "<table border=\"1\" class=\"dataframe\">\n",
       "  <thead>\n",
       "    <tr style=\"text-align: right;\">\n",
       "      <th></th>\n",
       "      <th>Survived</th>\n",
       "      <th>Pclass</th>\n",
       "      <th>Sex</th>\n",
       "      <th>Age</th>\n",
       "      <th>SibSp</th>\n",
       "      <th>Parch</th>\n",
       "      <th>Fare</th>\n",
       "      <th>Embarked</th>\n",
       "    </tr>\n",
       "    <tr>\n",
       "      <th>PassengerId</th>\n",
       "      <th></th>\n",
       "      <th></th>\n",
       "      <th></th>\n",
       "      <th></th>\n",
       "      <th></th>\n",
       "      <th></th>\n",
       "      <th></th>\n",
       "      <th></th>\n",
       "    </tr>\n",
       "  </thead>\n",
       "  <tbody>\n",
       "    <tr>\n",
       "      <th>1</th>\n",
       "      <td>0</td>\n",
       "      <td>3</td>\n",
       "      <td>1</td>\n",
       "      <td>-0.611972</td>\n",
       "      <td>1</td>\n",
       "      <td>0</td>\n",
       "      <td>-0.503595</td>\n",
       "      <td>3.0</td>\n",
       "    </tr>\n",
       "    <tr>\n",
       "      <th>2</th>\n",
       "      <td>1</td>\n",
       "      <td>1</td>\n",
       "      <td>0</td>\n",
       "      <td>0.630431</td>\n",
       "      <td>1</td>\n",
       "      <td>0</td>\n",
       "      <td>0.734503</td>\n",
       "      <td>1.0</td>\n",
       "    </tr>\n",
       "    <tr>\n",
       "      <th>3</th>\n",
       "      <td>1</td>\n",
       "      <td>3</td>\n",
       "      <td>0</td>\n",
       "      <td>-0.301371</td>\n",
       "      <td>0</td>\n",
       "      <td>0</td>\n",
       "      <td>-0.490544</td>\n",
       "      <td>3.0</td>\n",
       "    </tr>\n",
       "    <tr>\n",
       "      <th>4</th>\n",
       "      <td>1</td>\n",
       "      <td>1</td>\n",
       "      <td>0</td>\n",
       "      <td>0.397481</td>\n",
       "      <td>1</td>\n",
       "      <td>0</td>\n",
       "      <td>0.382925</td>\n",
       "      <td>3.0</td>\n",
       "    </tr>\n",
       "    <tr>\n",
       "      <th>5</th>\n",
       "      <td>0</td>\n",
       "      <td>3</td>\n",
       "      <td>1</td>\n",
       "      <td>0.397481</td>\n",
       "      <td>0</td>\n",
       "      <td>0</td>\n",
       "      <td>-0.488127</td>\n",
       "      <td>3.0</td>\n",
       "    </tr>\n",
       "  </tbody>\n",
       "</table>\n",
       "</div>"
      ],
      "text/plain": [
       "             Survived  Pclass Sex       Age  SibSp  Parch      Fare  Embarked\n",
       "PassengerId                                                                  \n",
       "1                   0       3   1 -0.611972      1      0 -0.503595       3.0\n",
       "2                   1       1   0  0.630431      1      0  0.734503       1.0\n",
       "3                   1       3   0 -0.301371      0      0 -0.490544       3.0\n",
       "4                   1       1   0  0.397481      1      0  0.382925       3.0\n",
       "5                   0       3   1  0.397481      0      0 -0.488127       3.0"
      ]
     },
     "execution_count": 66,
     "metadata": {},
     "output_type": "execute_result"
    }
   ],
   "source": [
    "df5.head(5)"
   ]
  },
  {
   "cell_type": "markdown",
   "metadata": {},
   "source": [
    "### Train-valid-test split for gradient boosting"
   ]
  },
  {
   "cell_type": "code",
   "execution_count": 67,
   "metadata": {},
   "outputs": [
    {
     "name": "stdout",
     "output_type": "stream",
     "text": [
      "Training Set: (916, 7)\n",
      "Validation Set: (196, 7)\n",
      "Test Set: (197, 7)\n"
     ]
    }
   ],
   "source": [
    "y = df5['Survived']\n",
    "X = df5.drop('Survived', axis=1)\n",
    "\n",
    "# 70% training and 30% validation + test\n",
    "X_traingb, X_val_testgb, y_traingb, y_val_testgb = train_test_split(X,y,test_size=0.30)\n",
    "\n",
    "# 15% validation and 15% test\n",
    "X_valgb, X_testgb, y_valgb, y_testgb = train_test_split(X_val_testgb, y_val_testgb, test_size=0.50)\n",
    "\n",
    "print(\"Training Set:\", X_traingb.shape)\n",
    "print(\"Validation Set:\", X_valgb.shape)\n",
    "print(\"Test Set:\", X_testgb.shape)"
   ]
  },
  {
   "cell_type": "markdown",
   "metadata": {},
   "source": [
    "Fitting Gradient Boosting Classifier on train set to predict validation set..."
   ]
  },
  {
   "cell_type": "code",
   "execution_count": 68,
   "metadata": {},
   "outputs": [
    {
     "name": "stdout",
     "output_type": "stream",
     "text": [
      "Validation set classification report:\n",
      "\n",
      "               precision    recall  f1-score   support\n",
      "\n",
      "           0       0.71      0.90      0.80       122\n",
      "           1       0.71      0.41      0.52        74\n",
      "\n",
      "    accuracy                           0.71       196\n",
      "   macro avg       0.71      0.65      0.66       196\n",
      "weighted avg       0.71      0.71      0.69       196\n",
      "\n"
     ]
    }
   ],
   "source": [
    "from sklearn.ensemble import GradientBoostingClassifier\n",
    "\n",
    "gb = GradientBoostingClassifier()\n",
    "\n",
    "gb.fit(X_traingb, y_traingb)\n",
    "pred_valgb = gb.predict(X_valgb)\n",
    "\n",
    "report = classification_report(y_valgb,pred_valgb)\n",
    "print(\"Validation set classification report:\\n\\n\", report)"
   ]
  },
  {
   "cell_type": "code",
   "execution_count": 69,
   "metadata": {},
   "outputs": [
    {
     "name": "stdout",
     "output_type": "stream",
     "text": [
      "Accuracy score: 0.71\n",
      "MCC: 0.36\n",
      "f1 score: 0.52\n"
     ]
    }
   ],
   "source": [
    "from sklearn.metrics import confusion_matrix,accuracy_score,matthews_corrcoef,f1_score\n",
    "\n",
    "print(\"Accuracy score:\",np.round(accuracy_score(y_valgb,pred_valgb),2)) \n",
    "print(\"MCC:\",np.round(matthews_corrcoef(y_valgb,pred_valgb),2))\n",
    "print(\"f1 score:\",np.round(f1_score(y_valgb,pred_valgb),2))"
   ]
  },
  {
   "cell_type": "markdown",
   "metadata": {},
   "source": [
    "Accuracy comes out to be 71% which is not good for now. But again we haven't really hypertuned the model. "
   ]
  },
  {
   "cell_type": "markdown",
   "metadata": {},
   "source": [
    "**3. Theoretically, increasing the number of decision trees (n_estimators), increases classifier performance and/or generalizability. How would you design and evaluate a computational experiment to test this on the Titanic dataset.** \n",
    "\n",
    "---\n",
    "\n",
    "Lets hypertune the model here!"
   ]
  },
  {
   "cell_type": "markdown",
   "metadata": {},
   "source": [
    "The default estimators and learning rate for Scikit learn's GradientBoostingClassifier() is 100 and 0.1 respectively. The default values have resulted in an accuracy of 71% which is definitely not good. So lets try and see if that can be improved. \n",
    "\n",
    "I am going to pass an array of different estimator values and learning rates. Maximum features considered will be 3 as suggested by Scikit learn as 30-40% of total features (10)."
   ]
  },
  {
   "cell_type": "code",
   "execution_count": 70,
   "metadata": {
    "scrolled": true
   },
   "outputs": [
    {
     "name": "stdout",
     "output_type": "stream",
     "text": [
      "Number of estimators:  10\n",
      "Learning rate:  0.05\n",
      "Accuracy score (training): 0.676\n",
      "Accuracy score (test): 0.64\n",
      "\n",
      "Number of estimators:  10\n",
      "Learning rate:  0.1\n",
      "Accuracy score (training): 0.728\n",
      "Accuracy score (test): 0.701\n",
      "\n",
      "Number of estimators:  10\n",
      "Learning rate:  0.25\n",
      "Accuracy score (training): 0.750\n",
      "Accuracy score (test): 0.726\n",
      "\n",
      "Number of estimators:  10\n",
      "Learning rate:  0.5\n",
      "Accuracy score (training): 0.760\n",
      "Accuracy score (test): 0.736\n",
      "\n",
      "Number of estimators:  10\n",
      "Learning rate:  0.75\n",
      "Accuracy score (training): 0.766\n",
      "Accuracy score (test): 0.746\n",
      "\n",
      "Number of estimators:  10\n",
      "Learning rate:  1\n",
      "Accuracy score (training): 0.771\n",
      "Accuracy score (test): 0.721\n",
      "\n",
      "Number of estimators:  20\n",
      "Learning rate:  0.05\n",
      "Accuracy score (training): 0.727\n",
      "Accuracy score (test): 0.701\n",
      "\n",
      "Number of estimators:  20\n",
      "Learning rate:  0.1\n",
      "Accuracy score (training): 0.747\n",
      "Accuracy score (test): 0.721\n",
      "\n",
      "Number of estimators:  20\n",
      "Learning rate:  0.25\n",
      "Accuracy score (training): 0.771\n",
      "Accuracy score (test): 0.736\n",
      "\n",
      "Number of estimators:  20\n",
      "Learning rate:  0.5\n",
      "Accuracy score (training): 0.772\n",
      "Accuracy score (test): 0.731\n",
      "\n",
      "Number of estimators:  20\n",
      "Learning rate:  0.75\n",
      "Accuracy score (training): 0.800\n",
      "Accuracy score (test): 0.726\n",
      "\n",
      "Number of estimators:  20\n",
      "Learning rate:  1\n",
      "Accuracy score (training): 0.798\n",
      "Accuracy score (test): 0.751\n",
      "\n",
      "Number of estimators:  30\n",
      "Learning rate:  0.05\n",
      "Accuracy score (training): 0.738\n",
      "Accuracy score (test): 0.701\n",
      "\n",
      "Number of estimators:  30\n",
      "Learning rate:  0.1\n",
      "Accuracy score (training): 0.753\n",
      "Accuracy score (test): 0.736\n",
      "\n",
      "Number of estimators:  30\n",
      "Learning rate:  0.25\n",
      "Accuracy score (training): 0.772\n",
      "Accuracy score (test): 0.726\n",
      "\n",
      "Number of estimators:  30\n",
      "Learning rate:  0.5\n",
      "Accuracy score (training): 0.798\n",
      "Accuracy score (test): 0.726\n",
      "\n",
      "Number of estimators:  30\n",
      "Learning rate:  0.75\n",
      "Accuracy score (training): 0.820\n",
      "Accuracy score (test): 0.716\n",
      "\n",
      "Number of estimators:  30\n",
      "Learning rate:  1\n",
      "Accuracy score (training): 0.831\n",
      "Accuracy score (test): 0.731\n",
      "\n",
      "Number of estimators:  40\n",
      "Learning rate:  0.05\n",
      "Accuracy score (training): 0.745\n",
      "Accuracy score (test): 0.716\n",
      "\n",
      "Number of estimators:  40\n",
      "Learning rate:  0.1\n",
      "Accuracy score (training): 0.754\n",
      "Accuracy score (test): 0.746\n",
      "\n",
      "Number of estimators:  40\n",
      "Learning rate:  0.25\n",
      "Accuracy score (training): 0.782\n",
      "Accuracy score (test): 0.726\n",
      "\n",
      "Number of estimators:  40\n",
      "Learning rate:  0.5\n",
      "Accuracy score (training): 0.798\n",
      "Accuracy score (test): 0.731\n",
      "\n",
      "Number of estimators:  40\n",
      "Learning rate:  0.75\n",
      "Accuracy score (training): 0.836\n",
      "Accuracy score (test): 0.731\n",
      "\n",
      "Number of estimators:  40\n",
      "Learning rate:  1\n",
      "Accuracy score (training): 0.852\n",
      "Accuracy score (test): 0.746\n",
      "\n",
      "Number of estimators:  50\n",
      "Learning rate:  0.05\n",
      "Accuracy score (training): 0.747\n",
      "Accuracy score (test): 0.726\n",
      "\n",
      "Number of estimators:  50\n",
      "Learning rate:  0.1\n",
      "Accuracy score (training): 0.757\n",
      "Accuracy score (test): 0.741\n",
      "\n",
      "Number of estimators:  50\n",
      "Learning rate:  0.25\n",
      "Accuracy score (training): 0.788\n",
      "Accuracy score (test): 0.721\n",
      "\n",
      "Number of estimators:  50\n",
      "Learning rate:  0.5\n",
      "Accuracy score (training): 0.833\n",
      "Accuracy score (test): 0.716\n",
      "\n",
      "Number of estimators:  50\n",
      "Learning rate:  0.75\n",
      "Accuracy score (training): 0.852\n",
      "Accuracy score (test): 0.711\n",
      "\n",
      "Number of estimators:  50\n",
      "Learning rate:  1\n",
      "Accuracy score (training): 0.858\n",
      "Accuracy score (test): 0.746\n",
      "\n",
      "Number of estimators:  60\n",
      "Learning rate:  0.05\n",
      "Accuracy score (training): 0.747\n",
      "Accuracy score (test): 0.721\n",
      "\n",
      "Number of estimators:  60\n",
      "Learning rate:  0.1\n",
      "Accuracy score (training): 0.765\n",
      "Accuracy score (test): 0.726\n",
      "\n",
      "Number of estimators:  60\n",
      "Learning rate:  0.25\n",
      "Accuracy score (training): 0.805\n",
      "Accuracy score (test): 0.721\n",
      "\n",
      "Number of estimators:  60\n",
      "Learning rate:  0.5\n",
      "Accuracy score (training): 0.843\n",
      "Accuracy score (test): 0.726\n",
      "\n",
      "Number of estimators:  60\n",
      "Learning rate:  0.75\n",
      "Accuracy score (training): 0.857\n",
      "Accuracy score (test): 0.706\n",
      "\n",
      "Number of estimators:  60\n",
      "Learning rate:  1\n",
      "Accuracy score (training): 0.878\n",
      "Accuracy score (test): 0.716\n",
      "\n",
      "Number of estimators:  70\n",
      "Learning rate:  0.05\n",
      "Accuracy score (training): 0.752\n",
      "Accuracy score (test): 0.731\n",
      "\n",
      "Number of estimators:  70\n",
      "Learning rate:  0.1\n",
      "Accuracy score (training): 0.766\n",
      "Accuracy score (test): 0.736\n",
      "\n",
      "Number of estimators:  70\n",
      "Learning rate:  0.25\n",
      "Accuracy score (training): 0.811\n",
      "Accuracy score (test): 0.721\n",
      "\n",
      "Number of estimators:  70\n",
      "Learning rate:  0.5\n",
      "Accuracy score (training): 0.856\n",
      "Accuracy score (test): 0.736\n",
      "\n",
      "Number of estimators:  70\n",
      "Learning rate:  0.75\n",
      "Accuracy score (training): 0.868\n",
      "Accuracy score (test): 0.721\n",
      "\n",
      "Number of estimators:  70\n",
      "Learning rate:  1\n",
      "Accuracy score (training): 0.883\n",
      "Accuracy score (test): 0.726\n",
      "\n",
      "Number of estimators:  80\n",
      "Learning rate:  0.05\n",
      "Accuracy score (training): 0.765\n",
      "Accuracy score (test): 0.741\n",
      "\n",
      "Number of estimators:  80\n",
      "Learning rate:  0.1\n",
      "Accuracy score (training): 0.775\n",
      "Accuracy score (test): 0.731\n",
      "\n",
      "Number of estimators:  80\n",
      "Learning rate:  0.25\n",
      "Accuracy score (training): 0.826\n",
      "Accuracy score (test): 0.721\n",
      "\n",
      "Number of estimators:  80\n",
      "Learning rate:  0.5\n",
      "Accuracy score (training): 0.871\n",
      "Accuracy score (test): 0.736\n",
      "\n",
      "Number of estimators:  80\n",
      "Learning rate:  0.75\n",
      "Accuracy score (training): 0.872\n",
      "Accuracy score (test): 0.711\n",
      "\n",
      "Number of estimators:  80\n",
      "Learning rate:  1\n",
      "Accuracy score (training): 0.898\n",
      "Accuracy score (test): 0.736\n",
      "\n",
      "Number of estimators:  90\n",
      "Learning rate:  0.05\n",
      "Accuracy score (training): 0.763\n",
      "Accuracy score (test): 0.741\n",
      "\n",
      "Number of estimators:  90\n",
      "Learning rate:  0.1\n",
      "Accuracy score (training): 0.778\n",
      "Accuracy score (test): 0.726\n",
      "\n",
      "Number of estimators:  90\n",
      "Learning rate:  0.25\n",
      "Accuracy score (training): 0.831\n",
      "Accuracy score (test): 0.716\n",
      "\n",
      "Number of estimators:  90\n",
      "Learning rate:  0.5\n",
      "Accuracy score (training): 0.873\n",
      "Accuracy score (test): 0.741\n",
      "\n",
      "Number of estimators:  90\n",
      "Learning rate:  0.75\n",
      "Accuracy score (training): 0.885\n",
      "Accuracy score (test): 0.731\n",
      "\n",
      "Number of estimators:  90\n",
      "Learning rate:  1\n",
      "Accuracy score (training): 0.915\n",
      "Accuracy score (test): 0.706\n",
      "\n",
      "Number of estimators:  100\n",
      "Learning rate:  0.05\n",
      "Accuracy score (training): 0.764\n",
      "Accuracy score (test): 0.736\n",
      "\n",
      "Number of estimators:  100\n",
      "Learning rate:  0.1\n",
      "Accuracy score (training): 0.788\n",
      "Accuracy score (test): 0.721\n",
      "\n",
      "Number of estimators:  100\n",
      "Learning rate:  0.25\n",
      "Accuracy score (training): 0.833\n",
      "Accuracy score (test): 0.726\n",
      "\n",
      "Number of estimators:  100\n",
      "Learning rate:  0.5\n",
      "Accuracy score (training): 0.878\n",
      "Accuracy score (test): 0.746\n",
      "\n",
      "Number of estimators:  100\n",
      "Learning rate:  0.75\n",
      "Accuracy score (training): 0.897\n",
      "Accuracy score (test): 0.716\n",
      "\n",
      "Number of estimators:  100\n",
      "Learning rate:  1\n",
      "Accuracy score (training): 0.919\n",
      "Accuracy score (test): 0.716\n",
      "\n"
     ]
    }
   ],
   "source": [
    "estimators = [10, 20, 30, 40, 50, 60, 70, 80, 90, 100]\n",
    "for estimator in estimators:\n",
    "    learning_rates = [0.05, 0.1, 0.25, 0.5, 0.75, 1]\n",
    "    for learning_rate in learning_rates:\n",
    "        gb = GradientBoostingClassifier(n_estimators = estimator, learning_rate = learning_rate, max_features=3, max_depth = 3, random_state = 0)\n",
    "        gb.fit(X_traingb, y_traingb)\n",
    "        print(\"Number of estimators: \", estimator)\n",
    "        print(\"Learning rate: \", learning_rate)\n",
    "        print(\"Accuracy score (training): {0:.3f}\".format(gb.score(X_traingb, y_traingb)))\n",
    "        pred_testgb = gb.predict(X_testgb)\n",
    "        print(\"Accuracy score (test):\",np.round(accuracy_score(y_testgb,pred_testgb),3)) \n",
    "        print()"
   ]
  },
  {
   "cell_type": "markdown",
   "metadata": {},
   "source": [
    "The top accuracy of 75.1% is achieved by selecting 20 estimators with a learning rate of 1 on our data!"
   ]
  },
  {
   "cell_type": "markdown",
   "metadata": {},
   "source": [
    "**4. Pick any Kaggle regression dataset. Train, tune and evaluate performance of a Random Forest Regression model. How will you use the feature importance calculations from this to perform feature selection. Please demonstrate this using the Kaggle regression dataset you picked.**\n"
   ]
  },
  {
   "cell_type": "markdown",
   "metadata": {},
   "source": [
    "Data: Red Wine Quality (https://www.kaggle.com/uciml/red-wine-quality-cortez-et-al-2009)\n",
    "\n",
    "**Glossary:**\n",
    "\n",
    "_Input variables (based on physicochemical tests):_\n",
    "\n",
    "1. fixed acidity\n",
    "2. volatile acidity\n",
    "3. citric acid\n",
    "4. residual sugar\n",
    "5. chlorides\n",
    "6. free sulfur dioxide\n",
    "7. total sulfur dioxide\n",
    "8. density\n",
    "9. pH\n",
    "10. sulphates\n",
    "11. alcohol\n",
    "\n",
    "_Output variable (based on sensory data):_\n",
    "\n",
    "12. quality (score between 0 and 10)\n",
    "\n",
    "\n",
    "Now, lets import data into a dataframe!"
   ]
  },
  {
   "cell_type": "code",
   "execution_count": 88,
   "metadata": {},
   "outputs": [
    {
     "name": "stdout",
     "output_type": "stream",
     "text": [
      "(1599, 12)\n"
     ]
    },
    {
     "data": {
      "text/html": [
       "<div>\n",
       "<style scoped>\n",
       "    .dataframe tbody tr th:only-of-type {\n",
       "        vertical-align: middle;\n",
       "    }\n",
       "\n",
       "    .dataframe tbody tr th {\n",
       "        vertical-align: top;\n",
       "    }\n",
       "\n",
       "    .dataframe thead th {\n",
       "        text-align: right;\n",
       "    }\n",
       "</style>\n",
       "<table border=\"1\" class=\"dataframe\">\n",
       "  <thead>\n",
       "    <tr style=\"text-align: right;\">\n",
       "      <th></th>\n",
       "      <th>fixed acidity</th>\n",
       "      <th>volatile acidity</th>\n",
       "      <th>citric acid</th>\n",
       "      <th>residual sugar</th>\n",
       "      <th>chlorides</th>\n",
       "      <th>free sulfur dioxide</th>\n",
       "      <th>total sulfur dioxide</th>\n",
       "      <th>density</th>\n",
       "      <th>pH</th>\n",
       "      <th>sulphates</th>\n",
       "      <th>alcohol</th>\n",
       "      <th>quality</th>\n",
       "    </tr>\n",
       "  </thead>\n",
       "  <tbody>\n",
       "    <tr>\n",
       "      <th>0</th>\n",
       "      <td>7.4</td>\n",
       "      <td>0.70</td>\n",
       "      <td>0.00</td>\n",
       "      <td>1.9</td>\n",
       "      <td>0.076</td>\n",
       "      <td>11.0</td>\n",
       "      <td>34.0</td>\n",
       "      <td>0.9978</td>\n",
       "      <td>3.51</td>\n",
       "      <td>0.56</td>\n",
       "      <td>9.4</td>\n",
       "      <td>5</td>\n",
       "    </tr>\n",
       "    <tr>\n",
       "      <th>1</th>\n",
       "      <td>7.8</td>\n",
       "      <td>0.88</td>\n",
       "      <td>0.00</td>\n",
       "      <td>2.6</td>\n",
       "      <td>0.098</td>\n",
       "      <td>25.0</td>\n",
       "      <td>67.0</td>\n",
       "      <td>0.9968</td>\n",
       "      <td>3.20</td>\n",
       "      <td>0.68</td>\n",
       "      <td>9.8</td>\n",
       "      <td>5</td>\n",
       "    </tr>\n",
       "    <tr>\n",
       "      <th>2</th>\n",
       "      <td>7.8</td>\n",
       "      <td>0.76</td>\n",
       "      <td>0.04</td>\n",
       "      <td>2.3</td>\n",
       "      <td>0.092</td>\n",
       "      <td>15.0</td>\n",
       "      <td>54.0</td>\n",
       "      <td>0.9970</td>\n",
       "      <td>3.26</td>\n",
       "      <td>0.65</td>\n",
       "      <td>9.8</td>\n",
       "      <td>5</td>\n",
       "    </tr>\n",
       "    <tr>\n",
       "      <th>3</th>\n",
       "      <td>11.2</td>\n",
       "      <td>0.28</td>\n",
       "      <td>0.56</td>\n",
       "      <td>1.9</td>\n",
       "      <td>0.075</td>\n",
       "      <td>17.0</td>\n",
       "      <td>60.0</td>\n",
       "      <td>0.9980</td>\n",
       "      <td>3.16</td>\n",
       "      <td>0.58</td>\n",
       "      <td>9.8</td>\n",
       "      <td>6</td>\n",
       "    </tr>\n",
       "    <tr>\n",
       "      <th>4</th>\n",
       "      <td>7.4</td>\n",
       "      <td>0.70</td>\n",
       "      <td>0.00</td>\n",
       "      <td>1.9</td>\n",
       "      <td>0.076</td>\n",
       "      <td>11.0</td>\n",
       "      <td>34.0</td>\n",
       "      <td>0.9978</td>\n",
       "      <td>3.51</td>\n",
       "      <td>0.56</td>\n",
       "      <td>9.4</td>\n",
       "      <td>5</td>\n",
       "    </tr>\n",
       "  </tbody>\n",
       "</table>\n",
       "</div>"
      ],
      "text/plain": [
       "   fixed acidity  volatile acidity  citric acid  residual sugar  chlorides  \\\n",
       "0            7.4              0.70         0.00             1.9      0.076   \n",
       "1            7.8              0.88         0.00             2.6      0.098   \n",
       "2            7.8              0.76         0.04             2.3      0.092   \n",
       "3           11.2              0.28         0.56             1.9      0.075   \n",
       "4            7.4              0.70         0.00             1.9      0.076   \n",
       "\n",
       "   free sulfur dioxide  total sulfur dioxide  density    pH  sulphates  \\\n",
       "0                 11.0                  34.0   0.9978  3.51       0.56   \n",
       "1                 25.0                  67.0   0.9968  3.20       0.68   \n",
       "2                 15.0                  54.0   0.9970  3.26       0.65   \n",
       "3                 17.0                  60.0   0.9980  3.16       0.58   \n",
       "4                 11.0                  34.0   0.9978  3.51       0.56   \n",
       "\n",
       "   alcohol  quality  \n",
       "0      9.4        5  \n",
       "1      9.8        5  \n",
       "2      9.8        5  \n",
       "3      9.8        6  \n",
       "4      9.4        5  "
      ]
     },
     "execution_count": 88,
     "metadata": {},
     "output_type": "execute_result"
    }
   ],
   "source": [
    "import pandas as pd \n",
    "import numpy as np\n",
    "import seaborn as sns\n",
    "import matplotlib.pyplot as plt\n",
    "\n",
    "%matplotlib inline\n",
    "\n",
    "wine = pd.read_csv(\"winequality.csv\")\n",
    "print(wine.shape)\n",
    "wine.head(5)"
   ]
  },
  {
   "cell_type": "code",
   "execution_count": 89,
   "metadata": {},
   "outputs": [
    {
     "name": "stdout",
     "output_type": "stream",
     "text": [
      "<class 'pandas.core.frame.DataFrame'>\n",
      "RangeIndex: 1599 entries, 0 to 1598\n",
      "Data columns (total 12 columns):\n",
      "fixed acidity           1599 non-null float64\n",
      "volatile acidity        1599 non-null float64\n",
      "citric acid             1599 non-null float64\n",
      "residual sugar          1599 non-null float64\n",
      "chlorides               1599 non-null float64\n",
      "free sulfur dioxide     1599 non-null float64\n",
      "total sulfur dioxide    1599 non-null float64\n",
      "density                 1599 non-null float64\n",
      "pH                      1599 non-null float64\n",
      "sulphates               1599 non-null float64\n",
      "alcohol                 1599 non-null float64\n",
      "quality                 1599 non-null int64\n",
      "dtypes: float64(11), int64(1)\n",
      "memory usage: 150.0 KB\n"
     ]
    }
   ],
   "source": [
    "wine.info()"
   ]
  },
  {
   "cell_type": "markdown",
   "metadata": {},
   "source": [
    "Checking to see if our data contains any nulls."
   ]
  },
  {
   "cell_type": "code",
   "execution_count": 90,
   "metadata": {},
   "outputs": [
    {
     "data": {
      "text/plain": [
       "fixed acidity           False\n",
       "volatile acidity        False\n",
       "citric acid             False\n",
       "residual sugar          False\n",
       "chlorides               False\n",
       "free sulfur dioxide     False\n",
       "total sulfur dioxide    False\n",
       "density                 False\n",
       "pH                      False\n",
       "sulphates               False\n",
       "alcohol                 False\n",
       "quality                 False\n",
       "dtype: bool"
      ]
     },
     "execution_count": 90,
     "metadata": {},
     "output_type": "execute_result"
    }
   ],
   "source": [
    "wine.isnull().any()"
   ]
  },
  {
   "cell_type": "code",
   "execution_count": 91,
   "metadata": {
    "scrolled": false
   },
   "outputs": [
    {
     "data": {
      "text/plain": [
       "<matplotlib.axes._subplots.AxesSubplot at 0x1b818de2cf8>"
      ]
     },
     "execution_count": 91,
     "metadata": {},
     "output_type": "execute_result"
    },
    {
     "data": {
      "image/png": "[encoded data removed]",
      "text/plain": [
       "<Figure size 1080x720 with 2 Axes>"
      ]
     },
     "metadata": {
      "needs_background": "light"
     },
     "output_type": "display_data"
    }
   ],
   "source": [
    "plt.figure(figsize=(15,10))\n",
    "sns.heatmap(wine.corr(), annot = True, vmin = 0, vmax = 1)"
   ]
  },
  {
   "cell_type": "markdown",
   "metadata": {},
   "source": [
    "From the first look at correlation matrix, we can observe that **Alcohol, fixed acidity, sulphates** and **citric acid** positively affects the quality of wine. This should serve as a good background when we investigate this further using feature importances. For now, lets split the data. "
   ]
  },
  {
   "cell_type": "markdown",
   "metadata": {},
   "source": [
    "### Train-valid-test split"
   ]
  },
  {
   "cell_type": "code",
   "execution_count": 75,
   "metadata": {},
   "outputs": [
    {
     "name": "stdout",
     "output_type": "stream",
     "text": [
      "Training Set: (1119, 11)\n",
      "Validation Set: (240, 11)\n",
      "Test Set: (240, 11)\n"
     ]
    }
   ],
   "source": [
    "from sklearn.model_selection import train_test_split\n",
    "\n",
    "y = wine['quality']\n",
    "X = wine.drop('quality', axis=1)\n",
    "\n",
    "# 70% training and 30% validation + test\n",
    "X_trainw, X_val_testw, y_trainw, y_val_testw = train_test_split(X,y,test_size=0.30)\n",
    "\n",
    "# 15% validation and 15% test\n",
    "X_valw, X_testw, y_valw, y_testw = train_test_split(X_val_testw, y_val_testw, test_size=0.50)\n",
    "\n",
    "print(\"Training Set:\", X_trainw.shape)\n",
    "print(\"Validation Set:\", X_valw.shape)\n",
    "print(\"Test Set:\", X_testw.shape)"
   ]
  },
  {
   "cell_type": "markdown",
   "metadata": {},
   "source": [
    "### Fitting model"
   ]
  },
  {
   "cell_type": "markdown",
   "metadata": {},
   "source": [
    "We will be importing RandomForestRegressor straight from Scikit Learn and fitting the default model to our data..."
   ]
  },
  {
   "cell_type": "code",
   "execution_count": 77,
   "metadata": {},
   "outputs": [
    {
     "name": "stdout",
     "output_type": "stream",
     "text": [
      "MAPE: 7.83\n",
      "Accuracy: 92.17\n"
     ]
    },
    {
     "name": "stderr",
     "output_type": "stream",
     "text": [
      "C:\\Users\\gaure\\Anaconda3\\lib\\site-packages\\sklearn\\ensemble\\forest.py:245: FutureWarning: The default value of n_estimators will change from 10 in version 0.20 to 100 in 0.22.\n",
      "  \"10 in version 0.20 to 100 in 0.22.\", FutureWarning)\n"
     ]
    }
   ],
   "source": [
    "from sklearn.ensemble import RandomForestRegressor\n",
    "from sklearn.metrics import mean_squared_error, r2_score\n",
    "\n",
    "rfc = RandomForestRegressor()\n",
    "rfc.fit(X_trainw, y_trainw)\n",
    "rfc_pred_val = rfc.predict(X_valw)\n",
    "errors = abs(rfc_pred_val - y_valw)\n",
    "mape = 100 * np.mean(errors / y)\n",
    "accuracy = 100 - mape\n",
    "\n",
    "print(\"MAPE:\", np.round(mape,2))\n",
    "print(\"Accuracy:\", np.round(accuracy,2))"
   ]
  },
  {
   "cell_type": "markdown",
   "metadata": {},
   "source": [
    "Looks like our default model is in a good shape! We'll still go ahead tune it further to check if it can improve... \n",
    "\n",
    "### Hyperparameter tuning using RandomSearchCV\n",
    "\n",
    "The most important settings in Random Forest are the number of trees in the forest (n_estimators) and the number of features considered for splitting at each leaf node (max_features). We could go read the research papers on the random forest and try to theorize the best hyperparameters, but a more efficient use of our time is just to try out a wide range of values and see what works! \n",
    "\n",
    "We will try adjusting the following set of hyperparameters:\n",
    "- **n_estimators** = number of trees in the foreset\n",
    "- **max_features** = max number of features considered for splitting a node\n",
    "- **max_depth** = max number of levels in each decision tree\n",
    "- **min_samples_split** = min number of data points placed in a node before the node is split\n",
    "- **min_samples_leaf** = min number of data points allowed in a leaf node\n",
    "- **bootstrap** = method for sampling data points (with or without replacement)\n",
    "\n",
    "\n",
    "To use RandomizedSearchCV, we first need to create a parameter grid to sample from during fitting:\n"
   ]
  },
  {
   "cell_type": "code",
   "execution_count": 78,
   "metadata": {},
   "outputs": [],
   "source": [
    "from sklearn.model_selection import RandomizedSearchCV\n",
    "\n",
    "random_grid = {'n_estimators': [200, 400, 600, 800, 1000, 1200, 1400, 1600, 1800, 2000],\n",
    "               'max_features': ['auto', 'sqrt'],\n",
    "               'max_depth': [10,20,30,40,50,60,70,80,90,100],\n",
    "               'min_samples_split': [2, 5, 10],\n",
    "               'min_samples_leaf': [1, 2, 4],\n",
    "               'bootstrap': [True, False]}"
   ]
  },
  {
   "cell_type": "markdown",
   "metadata": {},
   "source": [
    "### Why RandomSearchCV?\n",
    "\n",
    "In Grid Search, we try every combination of a preset list of values of the hyper-parameters and evaluate the model for each combination. Each set of parameters is taken into consideration and the accuracy is noted. Once all the combinations are evaluated, the model with the set of parameters which give the top accuracy is considered to be the best.\n",
    "\n",
    "Random search is a technique where random combinations of the hyperparameters are used to find the best solution for the built model. It tries random combinations of a range of values. To optimise with random search, the function is evaluated at some number of random configurations in the parameter space. The chances of finding the optimal parameter are comparatively higher in random search because of the random search pattern where the model might end up being trained on the optimised parameters without any aliasing. Random search works best for lower dimensional data since the time taken to find the right set is less with less number of iterations.\n",
    "\n",
    "Simply put Grid Search will try out $$10 * 2 * 10 * 3 * 3 * 2 = 3600$$ combinations before deciding the best estimator where as Random Search will try out (mxn) combinations using the parameters grid passed as a distribution where **m=number of iterations** and **n=folds**.\n",
    "\n",
    "In our case, we'll do 10 iterations for 5 folds each i.e $$10 * 5 = 50$$"
   ]
  },
  {
   "cell_type": "code",
   "execution_count": 79,
   "metadata": {},
   "outputs": [
    {
     "name": "stdout",
     "output_type": "stream",
     "text": [
      "Fitting 5 folds for each of 10 candidates, totalling 50 fits\n"
     ]
    },
    {
     "name": "stderr",
     "output_type": "stream",
     "text": [
      "[Parallel(n_jobs=-1)]: Using backend LokyBackend with 4 concurrent workers.\n",
      "[Parallel(n_jobs=-1)]: Done  33 tasks      | elapsed:   56.5s\n",
      "[Parallel(n_jobs=-1)]: Done  50 out of  50 | elapsed:  2.0min finished\n"
     ]
    },
    {
     "data": {
      "text/plain": [
       "RandomizedSearchCV(cv=5, error_score='raise-deprecating',\n",
       "                   estimator=RandomForestRegressor(bootstrap=True,\n",
       "                                                   criterion='mse',\n",
       "                                                   max_depth=None,\n",
       "                                                   max_features='auto',\n",
       "                                                   max_leaf_nodes=None,\n",
       "                                                   min_impurity_decrease=0.0,\n",
       "                                                   min_impurity_split=None,\n",
       "                                                   min_samples_leaf=1,\n",
       "                                                   min_samples_split=2,\n",
       "                                                   min_weight_fraction_leaf=0.0,\n",
       "                                                   n_estimators='warn',\n",
       "                                                   n_jobs=None, oob_score=False,\n",
       "                                                   random_sta...\n",
       "                   iid='warn', n_iter=10, n_jobs=-1,\n",
       "                   param_distributions={'bootstrap': [True, False],\n",
       "                                        'max_depth': [10, 20, 30, 40, 50, 60,\n",
       "                                                      70, 80, 90, 100],\n",
       "                                        'max_features': ['auto', 'sqrt'],\n",
       "                                        'min_samples_leaf': [1, 2, 4],\n",
       "                                        'min_samples_split': [2, 5, 10],\n",
       "                                        'n_estimators': [200, 400, 600, 800,\n",
       "                                                         1000, 1200, 1400, 1600,\n",
       "                                                         1800, 2000]},\n",
       "                   pre_dispatch='2*n_jobs', random_state=42, refit=True,\n",
       "                   return_train_score=False, scoring=None, verbose=2)"
      ]
     },
     "execution_count": 79,
     "metadata": {},
     "output_type": "execute_result"
    }
   ],
   "source": [
    "rf = RandomForestRegressor()\n",
    "\n",
    "rf_random = RandomizedSearchCV(estimator = rf, param_distributions = random_grid, n_iter = 10, cv = 5, verbose=2, random_state=42, n_jobs = -1)\n",
    "\n",
    "rf_random.fit(X_trainw, y_trainw) "
   ]
  },
  {
   "cell_type": "code",
   "execution_count": 80,
   "metadata": {},
   "outputs": [
    {
     "data": {
      "text/plain": [
       "{'n_estimators': 1400,\n",
       " 'min_samples_split': 5,\n",
       " 'min_samples_leaf': 1,\n",
       " 'max_features': 'sqrt',\n",
       " 'max_depth': 30,\n",
       " 'bootstrap': True}"
      ]
     },
     "execution_count": 80,
     "metadata": {},
     "output_type": "execute_result"
    }
   ],
   "source": [
    "rf_random.best_params_"
   ]
  },
  {
   "cell_type": "markdown",
   "metadata": {},
   "source": [
    "### Model Evaluation \n",
    "\n",
    "To determine if random search yielded a better model, we compare the base model with the best random search model. We'll be creating a function that basically executes the same steps i.e calculating mean absolute percentage error and accuracy. "
   ]
  },
  {
   "cell_type": "code",
   "execution_count": 81,
   "metadata": {},
   "outputs": [],
   "source": [
    "def evaluate(model, X, y):\n",
    "    predictions = model.predict(X)\n",
    "    errors = abs(predictions - y)\n",
    "    mape = 100 * np.mean(errors / y)\n",
    "    accuracy = 100 - mape\n",
    "    print('Model Performance:')\n",
    "    print('---------------------------')\n",
    "    print('Average Error: {:0.4f} degrees.'.format(np.mean(errors)))\n",
    "    print('Accuracy = {:0.2f}%.'.format(accuracy))\n",
    "    \n",
    "    return accuracy"
   ]
  },
  {
   "cell_type": "markdown",
   "metadata": {},
   "source": [
    "**Base Model**"
   ]
  },
  {
   "cell_type": "code",
   "execution_count": 82,
   "metadata": {},
   "outputs": [
    {
     "name": "stdout",
     "output_type": "stream",
     "text": [
      "Model Performance:\n",
      "---------------------------\n",
      "Average Error: 0.4467 degrees.\n",
      "Accuracy = 91.99%.\n"
     ]
    },
    {
     "name": "stderr",
     "output_type": "stream",
     "text": [
      "C:\\Users\\gaure\\Anaconda3\\lib\\site-packages\\sklearn\\ensemble\\forest.py:245: FutureWarning: The default value of n_estimators will change from 10 in version 0.20 to 100 in 0.22.\n",
      "  \"10 in version 0.20 to 100 in 0.22.\", FutureWarning)\n"
     ]
    }
   ],
   "source": [
    "base_model = RandomForestRegressor()\n",
    "base_model.fit(X_trainw, y_trainw)\n",
    "base_accuracy = evaluate(base_model, X_valw, y_valw)"
   ]
  },
  {
   "cell_type": "markdown",
   "metadata": {},
   "source": [
    "**Best Model obtained from RandomSearchCV**"
   ]
  },
  {
   "cell_type": "code",
   "execution_count": 83,
   "metadata": {},
   "outputs": [
    {
     "name": "stdout",
     "output_type": "stream",
     "text": [
      "Model Performance:\n",
      "---------------------------\n",
      "Average Error: 0.4325 degrees.\n",
      "Accuracy = 92.19%.\n"
     ]
    }
   ],
   "source": [
    "best_random = rf_random.best_estimator_\n",
    "random_accuracy = evaluate(best_random, X_valw, y_valw)"
   ]
  },
  {
   "cell_type": "code",
   "execution_count": 84,
   "metadata": {},
   "outputs": [
    {
     "name": "stdout",
     "output_type": "stream",
     "text": [
      "Improvement of 0.22%.\n"
     ]
    }
   ],
   "source": [
    "print('Improvement of {:0.2f}%.'.format( 100 * (random_accuracy - base_accuracy) / base_accuracy))"
   ]
  },
  {
   "cell_type": "markdown",
   "metadata": {},
   "source": [
    "### Fitting model on Test Data\n",
    "\n",
    "Random search model yeilds an improved accuracy by 0.2% so we will fit that model on our test data and see how it fares."
   ]
  },
  {
   "cell_type": "code",
   "execution_count": 85,
   "metadata": {},
   "outputs": [
    {
     "name": "stdout",
     "output_type": "stream",
     "text": [
      "MAPE: 7.803385937425077\n",
      "Accuracy: 92.19661406257492\n"
     ]
    }
   ],
   "source": [
    "best_random.fit(X_trainw, y_trainw)\n",
    "best_pred = best_random.predict(X_testw)\n",
    "errors = abs(best_pred - y_testw)\n",
    "mape = 100 * np.mean(errors / y)\n",
    "accuracy = 100 - mape\n",
    "\n",
    "print(\"MAPE:\", mape)\n",
    "print(\"Accuracy:\", accuracy)"
   ]
  },
  {
   "cell_type": "markdown",
   "metadata": {},
   "source": [
    "### Feature Selection\n",
    "\n",
    "In decision trees, every node is a condition of how to split values in a single feature, so that similar values of the dependent variable end up in the same set after the split. \n",
    "\n",
    "The condition is based on impurity, which in case of classification problems is _**Gini Impurity/Information Gain (Entropy)**_\n",
    "while for regression trees its variance. So when training a tree we can compute how much each feature contributes to decreasing the weighted impurity. \n",
    "\n",
    "**feature_importances_** in Scikit-Learn is based on that logic, but in the case of Random Forest, we are talking about averaging the decrease in impurity over trees.\n",
    "\n",
    "Lets check our top 5 features on test set."
   ]
  },
  {
   "cell_type": "code",
   "execution_count": 86,
   "metadata": {},
   "outputs": [
    {
     "name": "stdout",
     "output_type": "stream",
     "text": [
      "[0.05674717 0.14069909 0.06867106 0.05144131 0.0732104  0.04905473\n",
      " 0.07934318 0.08895178 0.05524995 0.13733133 0.19929999]\n"
     ]
    },
    {
     "data": {
      "image/png": "[encoded data removed]",
      "text/plain": [
       "<Figure size 1080x720 with 1 Axes>"
      ]
     },
     "metadata": {
      "needs_background": "light"
     },
     "output_type": "display_data"
    }
   ],
   "source": [
    "print(best_random.feature_importances_) \n",
    "plt.figure(figsize=(15,10))\n",
    "feat_importances = pd.Series(best_random.feature_importances_, index=X_trainw.columns)\n",
    "feat_importances.nlargest(5).plot(kind='barh')\n",
    "plt.title(\"Random Forest - Feature Importance scores\")\n",
    "plt.xlabel('Score')\n",
    "plt.ylabel('Features')\n",
    "plt.show()"
   ]
  },
  {
   "cell_type": "markdown",
   "metadata": {},
   "source": [
    "Above, we see our top 5 features contributing to our outcome. What is surprising to see is, out of the features that were highlighed through the correlation matrix (alcohol, sulphates, citric acid, fixed acidity), only **Alchol** & **sulphates** made it to the top 5However, the impurity-based feature importance ranks the numerical features to be the most important features.\n",
    "\n",
    "This problem stems from two limitations of impurity-based feature importances:\n",
    "\n",
    "- impurity-based importances are biased towards high cardinality features\n",
    "\n",
    "- impurity-based importances are computed on training set statistics and therefore do not reflect the ability of feature to be useful to make predictions that generalize to the test set.\n",
    "\n",
    "To mitigate this con, we can use Permutation Importance.\n",
    "\n",
    "### Permutation Importance\n",
    "\n",
    "Permutation feature importance measures the increase in the prediction error of the model after we permuted the feature’s values, which breaks the relationship between the feature and the true outcome. \n",
    "\n",
    "In simple words, a feature is “important” if shuffling its values increases the model error, because in this case the model relied on the feature for the prediction. A feature is “unimportant” if shuffling its values leaves the model error unchanged, because in this case the model ignored the feature for the prediction. \n",
    "\n",
    "We'll compute permuted importances on our test set to see if we observe any difference in the order/rank of features. "
   ]
  },
  {
   "cell_type": "code",
   "execution_count": 87,
   "metadata": {},
   "outputs": [
    {
     "data": {
      "text/plain": [
       "<Figure size 1080x720 with 0 Axes>"
      ]
     },
     "metadata": {},
     "output_type": "display_data"
    },
    {
     "data": {
      "image/png": "[encoded data removed]",
      "text/plain": [
       "<Figure size 432x288 with 1 Axes>"
      ]
     },
     "metadata": {
      "needs_background": "light"
     },
     "output_type": "display_data"
    }
   ],
   "source": [
    "from sklearn.metrics import r2_score\n",
    "from rfpimp import permutation_importances\n",
    "\n",
    "def r2(model, X, y):\n",
    "    return r2_score(y, model.predict(X))\n",
    "\n",
    "perm_imp_rfpimp = permutation_importances(best_random, X_testw, y_testw, r2)\n",
    "\n",
    "plt.figure(figsize=(15,10))\n",
    "\n",
    "perm_imp_rfpimp.plot(kind='barh', color='green')\n",
    "plt.title(\"Permutation Feature Importance\")\n",
    "plt.xlabel('Score')\n",
    "plt.ylabel('Features')\n",
    "plt.show()"
   ]
  },
  {
   "cell_type": "markdown",
   "metadata": {},
   "source": [
    "The plot confirms what we have seen with impurity based feature_importances. Our top 5 features stay the same. "
   ]
  }
 ],
 "metadata": {
  "kernelspec": {
   "display_name": "Python 3",
   "language": "python",
   "name": "python3"
  },
  "language_info": {
   "codemirror_mode": {
    "name": "ipython",
    "version": 3
   },
   "file_extension": ".py",
   "mimetype": "text/x-python",
   "name": "python",
   "nbconvert_exporter": "python",
   "pygments_lexer": "ipython3",
   "version": "3.7.3"
  }
 },
 "nbformat": 4,
 "nbformat_minor": 2
}
